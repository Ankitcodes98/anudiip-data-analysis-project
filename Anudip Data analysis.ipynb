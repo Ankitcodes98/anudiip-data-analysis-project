{
 "cells": [
  {
   "cell_type": "code",
   "execution_count": 1,
   "metadata": {},
   "outputs": [
    {
     "name": "stdout",
     "output_type": "stream",
     "text": [
      "       EEID        Full Name                 Job Title  Department  \\\n",
      "0    E02387      Emily Davis                Sr. Manger          IT   \n",
      "1    E04105    Theodore Dinh       Technical Architect          IT   \n",
      "2    E02572     Luna Sanders                  Director     Finance   \n",
      "3    E02832  Penelope Jordan  Computer Systems Manager          IT   \n",
      "4    E01639        Austin Vo               Sr. Analyst     Finance   \n",
      "..      ...              ...                       ...         ...   \n",
      "995  E03094     Wesley Young               Sr. Analyst   Marketing   \n",
      "996  E01909     Lillian Khan                   Analyst     Finance   \n",
      "997  E04398      Oliver Yang                  Director   Marketing   \n",
      "998  E02521      Lily Nguyen               Sr. Analyst     Finance   \n",
      "999  E03545      Sofia Cheng            Vice President  Accounting   \n",
      "\n",
      "              Business Unit  Gender  Ethnicity  Age  Hire Date  Annual Salary  \\\n",
      "0    Research & Development  Female      Black   55 2016-04-08         141604   \n",
      "1             Manufacturing    Male      Asian   59 1997-11-29          99975   \n",
      "2       Speciality Products  Female  Caucasian   50 2006-10-26         163099   \n",
      "3             Manufacturing  Female  Caucasian   26 2019-09-27          84913   \n",
      "4             Manufacturing    Male      Asian   55 1995-11-20          95409   \n",
      "..                      ...     ...        ...  ...        ...            ...   \n",
      "995     Speciality Products    Male  Caucasian   33 2016-09-18          98427   \n",
      "996     Speciality Products  Female      Asian   44 2010-05-31          47387   \n",
      "997     Speciality Products    Male      Asian   31 2019-06-10         176710   \n",
      "998     Speciality Products  Female      Asian   33 2012-01-28          95960   \n",
      "999               Corporate  Female      Asian   63 2020-07-26         216195   \n",
      "\n",
      "     Bonus %        Country       City  Exit Date  \n",
      "0       0.15  United States    Seattle 2021-10-16  \n",
      "1       0.00          China  Chongqing        NaT  \n",
      "2       0.20  United States    Chicago        NaT  \n",
      "3       0.07  United States    Chicago        NaT  \n",
      "4       0.00  United States    Phoenix        NaT  \n",
      "..       ...            ...        ...        ...  \n",
      "995     0.00  United States   Columbus        NaT  \n",
      "996     0.00          China    Chengdu 2018-01-08  \n",
      "997     0.15  United States      Miami        NaT  \n",
      "998     0.00          China    Chengdu        NaT  \n",
      "999     0.31  United States      Miami        NaT  \n",
      "\n",
      "[1000 rows x 14 columns]\n"
     ]
    }
   ],
   "source": [
    "# to import pandas \n",
    "import pandas as pd\n",
    "#import matplotlib\n",
    "import matplotlib.pyplot as plt\n",
    "#to load excel file from github\n",
    "df=pd.read_excel('https://github.com/Ankitcodes98/anudiip-data-analysis-project/raw/refs/heads/main/Employee%20Sample%20Data.xlsx')\n",
    "\n",
    "print(df)"
   ]
  },
  {
   "cell_type": "code",
   "execution_count": 2,
   "metadata": {},
   "outputs": [
    {
     "name": "stdout",
     "output_type": "stream",
     "text": [
      "<class 'pandas.core.frame.DataFrame'>\n",
      "RangeIndex: 1000 entries, 0 to 999\n",
      "Data columns (total 14 columns):\n",
      " #   Column         Non-Null Count  Dtype         \n",
      "---  ------         --------------  -----         \n",
      " 0   EEID           1000 non-null   object        \n",
      " 1   Full Name      1000 non-null   object        \n",
      " 2   Job Title      1000 non-null   object        \n",
      " 3   Department     1000 non-null   object        \n",
      " 4   Business Unit  1000 non-null   object        \n",
      " 5   Gender         1000 non-null   object        \n",
      " 6   Ethnicity      1000 non-null   object        \n",
      " 7   Age            1000 non-null   int64         \n",
      " 8   Hire Date      1000 non-null   datetime64[ns]\n",
      " 9   Annual Salary  1000 non-null   int64         \n",
      " 10  Bonus %        1000 non-null   float64       \n",
      " 11  Country        1000 non-null   object        \n",
      " 12  City           1000 non-null   object        \n",
      " 13  Exit Date      85 non-null     datetime64[ns]\n",
      "dtypes: datetime64[ns](2), float64(1), int64(2), object(9)\n",
      "memory usage: 109.5+ KB\n"
     ]
    }
   ],
   "source": [
    "df.info() #fetching the information of the set"
   ]
  },
  {
   "cell_type": "code",
   "execution_count": 3,
   "metadata": {},
   "outputs": [
    {
     "name": "stdout",
     "output_type": "stream",
     "text": [
      "Top 20 data is:\n",
      "      EEID        Full Name                 Job Title  Department  \\\n",
      "0  E02387      Emily Davis                Sr. Manger          IT   \n",
      "1  E04105    Theodore Dinh       Technical Architect          IT   \n",
      "2  E02572     Luna Sanders                  Director     Finance   \n",
      "3  E02832  Penelope Jordan  Computer Systems Manager          IT   \n",
      "4  E01639        Austin Vo               Sr. Analyst     Finance   \n",
      "5  E00644     Joshua Gupta    Account Representative       Sales   \n",
      "6  E01550      Ruby Barnes                   Manager          IT   \n",
      "7  E04332      Luke Martin                   Analyst     Finance   \n",
      "8  E04533    Easton Bailey                   Manager  Accounting   \n",
      "9  E03838  Madeline Walker               Sr. Analyst     Finance   \n",
      "\n",
      "            Business Unit  Gender  Ethnicity  Age  Hire Date  Annual Salary  \\\n",
      "0  Research & Development  Female      Black   55 2016-04-08         141604   \n",
      "1           Manufacturing    Male      Asian   59 1997-11-29          99975   \n",
      "2     Speciality Products  Female  Caucasian   50 2006-10-26         163099   \n",
      "3           Manufacturing  Female  Caucasian   26 2019-09-27          84913   \n",
      "4           Manufacturing    Male      Asian   55 1995-11-20          95409   \n",
      "5               Corporate    Male      Asian   57 2017-01-24          50994   \n",
      "6               Corporate  Female  Caucasian   27 2020-07-01         119746   \n",
      "7           Manufacturing    Male      Black   25 2020-05-16          41336   \n",
      "8           Manufacturing    Male  Caucasian   29 2019-01-25         113527   \n",
      "9     Speciality Products  Female  Caucasian   34 2018-06-13          77203   \n",
      "\n",
      "   Bonus %        Country       City  Exit Date  \n",
      "0     0.15  United States    Seattle 2021-10-16  \n",
      "1     0.00          China  Chongqing        NaT  \n",
      "2     0.20  United States    Chicago        NaT  \n",
      "3     0.07  United States    Chicago        NaT  \n",
      "4     0.00  United States    Phoenix        NaT  \n",
      "5     0.00          China  Chongqing        NaT  \n",
      "6     0.10  United States    Phoenix        NaT  \n",
      "7     0.00  United States      Miami 2021-05-20  \n",
      "8     0.06  United States     Austin        NaT  \n",
      "9     0.00  United States    Chicago        NaT  \n"
     ]
    }
   ],
   "source": [
    "print(\"Top 20 data is:\\n\",df.head(10)) #Fetching the top 20 records"
   ]
  },
  {
   "cell_type": "code",
   "execution_count": 4,
   "metadata": {},
   "outputs": [
    {
     "name": "stdout",
     "output_type": "stream",
     "text": [
      "Last 20 records :\n",
      "        EEID          Full Name             Job Title       Department  \\\n",
      "990  E01578       Anthony Hong            Sr. Manger               IT   \n",
      "991  E03430        Leo Herrera  Sr. Business Partner  Human Resources   \n",
      "992  E03058      Robert Wright   Technical Architect               IT   \n",
      "993  E04762  Audrey Richardson              Director               IT   \n",
      "994  E01148     Scarlett Kumar       Systems Analyst               IT   \n",
      "995  E03094       Wesley Young           Sr. Analyst        Marketing   \n",
      "996  E01909       Lillian Khan               Analyst          Finance   \n",
      "997  E04398        Oliver Yang              Director        Marketing   \n",
      "998  E02521        Lily Nguyen           Sr. Analyst          Finance   \n",
      "999  E03545        Sofia Cheng        Vice President       Accounting   \n",
      "\n",
      "              Business Unit  Gender  Ethnicity  Age  Hire Date  Annual Salary  \\\n",
      "990  Research & Development    Male      Asian   37 2010-11-29         146961   \n",
      "991  Research & Development    Male     Latino   48 1998-04-22          85369   \n",
      "992           Manufacturing    Male  Caucasian   30 2015-06-14          67489   \n",
      "993           Manufacturing  Female  Caucasian   46 2018-10-06         166259   \n",
      "994               Corporate  Female      Asian   55 2009-01-07          47032   \n",
      "995     Speciality Products    Male  Caucasian   33 2016-09-18          98427   \n",
      "996     Speciality Products  Female      Asian   44 2010-05-31          47387   \n",
      "997     Speciality Products    Male      Asian   31 2019-06-10         176710   \n",
      "998     Speciality Products  Female      Asian   33 2012-01-28          95960   \n",
      "999               Corporate  Female      Asian   63 2020-07-26         216195   \n",
      "\n",
      "     Bonus %        Country      City  Exit Date  \n",
      "990     0.11  United States  Columbus        NaT  \n",
      "991     0.00         Brazil    Manaus 2004-11-27  \n",
      "992     0.00  United States   Chicago        NaT  \n",
      "993     0.17  United States   Chicago        NaT  \n",
      "994     0.00  United States  Columbus        NaT  \n",
      "995     0.00  United States  Columbus        NaT  \n",
      "996     0.00          China   Chengdu 2018-01-08  \n",
      "997     0.15  United States     Miami        NaT  \n",
      "998     0.00          China   Chengdu        NaT  \n",
      "999     0.31  United States     Miami        NaT  \n"
     ]
    }
   ],
   "source": [
    "print(\"Last 20 records :\\n\",df.tail(10)) # Fetching the last 20 records"
   ]
  },
  {
   "cell_type": "code",
   "execution_count": 5,
   "metadata": {},
   "outputs": [
    {
     "name": "stdout",
     "output_type": "stream",
     "text": [
      "Top 10 Names:\n"
     ]
    },
    {
     "data": {
      "text/plain": [
       "0        Emily Davis\n",
       "1      Theodore Dinh\n",
       "2       Luna Sanders\n",
       "3    Penelope Jordan\n",
       "4          Austin Vo\n",
       "5       Joshua Gupta\n",
       "6        Ruby Barnes\n",
       "7        Luke Martin\n",
       "8      Easton Bailey\n",
       "9    Madeline Walker\n",
       "Name: Full Name, dtype: object"
      ]
     },
     "execution_count": 5,
     "metadata": {},
     "output_type": "execute_result"
    }
   ],
   "source": [
    "print(\"Top 10 Names:\") # Fetching top 10 Full Name\n",
    "df['Full Name'].head(10)"
   ]
  },
  {
   "cell_type": "code",
   "execution_count": 6,
   "metadata": {},
   "outputs": [
    {
     "name": "stdout",
     "output_type": "stream",
     "text": [
      "Top 10 Job Title:\n"
     ]
    },
    {
     "data": {
      "text/plain": [
       "0            IT\n",
       "1            IT\n",
       "2       Finance\n",
       "3            IT\n",
       "4       Finance\n",
       "5         Sales\n",
       "6            IT\n",
       "7       Finance\n",
       "8    Accounting\n",
       "9       Finance\n",
       "Name: Department, dtype: object"
      ]
     },
     "execution_count": 6,
     "metadata": {},
     "output_type": "execute_result"
    }
   ],
   "source": [
    "print(\"Top 10 Job Title:\") # Fetching top 10 Departments\n",
    "df['Department'].head(10)"
   ]
  },
  {
   "cell_type": "code",
   "execution_count": 7,
   "metadata": {},
   "outputs": [
    {
     "name": "stdout",
     "output_type": "stream",
     "text": [
      "Top 10 Business Unit:\n"
     ]
    },
    {
     "data": {
      "text/plain": [
       "0    Research & Development\n",
       "1             Manufacturing\n",
       "2       Speciality Products\n",
       "3             Manufacturing\n",
       "4             Manufacturing\n",
       "5                 Corporate\n",
       "6                 Corporate\n",
       "7             Manufacturing\n",
       "8             Manufacturing\n",
       "9       Speciality Products\n",
       "Name: Business Unit, dtype: object"
      ]
     },
     "execution_count": 7,
     "metadata": {},
     "output_type": "execute_result"
    }
   ],
   "source": [
    "print(\"Top 10 Business Unit:\") # Fetching top 10 Business Unit\n",
    "df['Business Unit'].head(10)"
   ]
  },
  {
   "cell_type": "code",
   "execution_count": 8,
   "metadata": {},
   "outputs": [
    {
     "data": {
      "text/html": [
       "<div>\n",
       "<style scoped>\n",
       "    .dataframe tbody tr th:only-of-type {\n",
       "        vertical-align: middle;\n",
       "    }\n",
       "\n",
       "    .dataframe tbody tr th {\n",
       "        vertical-align: top;\n",
       "    }\n",
       "\n",
       "    .dataframe thead th {\n",
       "        text-align: right;\n",
       "    }\n",
       "</style>\n",
       "<table border=\"1\" class=\"dataframe\">\n",
       "  <thead>\n",
       "    <tr style=\"text-align: right;\">\n",
       "      <th></th>\n",
       "      <th>Age</th>\n",
       "      <th>Hire Date</th>\n",
       "      <th>Annual Salary</th>\n",
       "      <th>Bonus %</th>\n",
       "      <th>Exit Date</th>\n",
       "    </tr>\n",
       "  </thead>\n",
       "  <tbody>\n",
       "    <tr>\n",
       "      <th>count</th>\n",
       "      <td>1000.000000</td>\n",
       "      <td>1000</td>\n",
       "      <td>1000.000000</td>\n",
       "      <td>1000.000000</td>\n",
       "      <td>85</td>\n",
       "    </tr>\n",
       "    <tr>\n",
       "      <th>mean</th>\n",
       "      <td>44.382000</td>\n",
       "      <td>2012-04-07 02:54:14.400000</td>\n",
       "      <td>113217.365000</td>\n",
       "      <td>0.088660</td>\n",
       "      <td>2016-11-02 18:04:14.117647104</td>\n",
       "    </tr>\n",
       "    <tr>\n",
       "      <th>min</th>\n",
       "      <td>25.000000</td>\n",
       "      <td>1992-01-09 00:00:00</td>\n",
       "      <td>40063.000000</td>\n",
       "      <td>0.000000</td>\n",
       "      <td>1994-12-18 00:00:00</td>\n",
       "    </tr>\n",
       "    <tr>\n",
       "      <th>25%</th>\n",
       "      <td>35.000000</td>\n",
       "      <td>2007-02-14 00:00:00</td>\n",
       "      <td>71430.250000</td>\n",
       "      <td>0.000000</td>\n",
       "      <td>2014-12-25 00:00:00</td>\n",
       "    </tr>\n",
       "    <tr>\n",
       "      <th>50%</th>\n",
       "      <td>45.000000</td>\n",
       "      <td>2014-02-15 12:00:00</td>\n",
       "      <td>96557.000000</td>\n",
       "      <td>0.000000</td>\n",
       "      <td>2019-05-23 00:00:00</td>\n",
       "    </tr>\n",
       "    <tr>\n",
       "      <th>75%</th>\n",
       "      <td>54.000000</td>\n",
       "      <td>2018-06-22 00:00:00</td>\n",
       "      <td>150782.250000</td>\n",
       "      <td>0.150000</td>\n",
       "      <td>2021-04-09 00:00:00</td>\n",
       "    </tr>\n",
       "    <tr>\n",
       "      <th>max</th>\n",
       "      <td>65.000000</td>\n",
       "      <td>2021-12-26 00:00:00</td>\n",
       "      <td>258498.000000</td>\n",
       "      <td>0.400000</td>\n",
       "      <td>2022-08-17 00:00:00</td>\n",
       "    </tr>\n",
       "    <tr>\n",
       "      <th>std</th>\n",
       "      <td>11.246981</td>\n",
       "      <td>NaN</td>\n",
       "      <td>53545.985644</td>\n",
       "      <td>0.117856</td>\n",
       "      <td>NaN</td>\n",
       "    </tr>\n",
       "  </tbody>\n",
       "</table>\n",
       "</div>"
      ],
      "text/plain": [
       "               Age                   Hire Date  Annual Salary      Bonus %  \\\n",
       "count  1000.000000                        1000    1000.000000  1000.000000   \n",
       "mean     44.382000  2012-04-07 02:54:14.400000  113217.365000     0.088660   \n",
       "min      25.000000         1992-01-09 00:00:00   40063.000000     0.000000   \n",
       "25%      35.000000         2007-02-14 00:00:00   71430.250000     0.000000   \n",
       "50%      45.000000         2014-02-15 12:00:00   96557.000000     0.000000   \n",
       "75%      54.000000         2018-06-22 00:00:00  150782.250000     0.150000   \n",
       "max      65.000000         2021-12-26 00:00:00  258498.000000     0.400000   \n",
       "std      11.246981                         NaN   53545.985644     0.117856   \n",
       "\n",
       "                           Exit Date  \n",
       "count                             85  \n",
       "mean   2016-11-02 18:04:14.117647104  \n",
       "min              1994-12-18 00:00:00  \n",
       "25%              2014-12-25 00:00:00  \n",
       "50%              2019-05-23 00:00:00  \n",
       "75%              2021-04-09 00:00:00  \n",
       "max              2022-08-17 00:00:00  \n",
       "std                              NaN  "
      ]
     },
     "execution_count": 8,
     "metadata": {},
     "output_type": "execute_result"
    }
   ],
   "source": [
    "#Fetching the description of the data\n",
    "df.describe()"
   ]
  },
  {
   "cell_type": "code",
   "execution_count": 9,
   "metadata": {},
   "outputs": [
    {
     "data": {
      "text/html": [
       "<div>\n",
       "<style scoped>\n",
       "    .dataframe tbody tr th:only-of-type {\n",
       "        vertical-align: middle;\n",
       "    }\n",
       "\n",
       "    .dataframe tbody tr th {\n",
       "        vertical-align: top;\n",
       "    }\n",
       "\n",
       "    .dataframe thead th {\n",
       "        text-align: right;\n",
       "    }\n",
       "</style>\n",
       "<table border=\"1\" class=\"dataframe\">\n",
       "  <thead>\n",
       "    <tr style=\"text-align: right;\">\n",
       "      <th></th>\n",
       "      <th>EEID</th>\n",
       "      <th>Full Name</th>\n",
       "      <th>Job Title</th>\n",
       "      <th>Department</th>\n",
       "      <th>Business Unit</th>\n",
       "      <th>Gender</th>\n",
       "      <th>Ethnicity</th>\n",
       "      <th>Country</th>\n",
       "      <th>City</th>\n",
       "    </tr>\n",
       "  </thead>\n",
       "  <tbody>\n",
       "    <tr>\n",
       "      <th>count</th>\n",
       "      <td>1000</td>\n",
       "      <td>1000</td>\n",
       "      <td>1000</td>\n",
       "      <td>1000</td>\n",
       "      <td>1000</td>\n",
       "      <td>1000</td>\n",
       "      <td>1000</td>\n",
       "      <td>1000</td>\n",
       "      <td>1000</td>\n",
       "    </tr>\n",
       "    <tr>\n",
       "      <th>unique</th>\n",
       "      <td>911</td>\n",
       "      <td>991</td>\n",
       "      <td>33</td>\n",
       "      <td>7</td>\n",
       "      <td>4</td>\n",
       "      <td>2</td>\n",
       "      <td>4</td>\n",
       "      <td>3</td>\n",
       "      <td>13</td>\n",
       "    </tr>\n",
       "    <tr>\n",
       "      <th>top</th>\n",
       "      <td>E03349</td>\n",
       "      <td>Everly Walker</td>\n",
       "      <td>Director</td>\n",
       "      <td>IT</td>\n",
       "      <td>Manufacturing</td>\n",
       "      <td>Female</td>\n",
       "      <td>Asian</td>\n",
       "      <td>United States</td>\n",
       "      <td>Seattle</td>\n",
       "    </tr>\n",
       "    <tr>\n",
       "      <th>freq</th>\n",
       "      <td>3</td>\n",
       "      <td>2</td>\n",
       "      <td>121</td>\n",
       "      <td>241</td>\n",
       "      <td>269</td>\n",
       "      <td>518</td>\n",
       "      <td>404</td>\n",
       "      <td>643</td>\n",
       "      <td>118</td>\n",
       "    </tr>\n",
       "  </tbody>\n",
       "</table>\n",
       "</div>"
      ],
      "text/plain": [
       "          EEID      Full Name Job Title Department  Business Unit  Gender  \\\n",
       "count     1000           1000      1000       1000           1000    1000   \n",
       "unique     911            991        33          7              4       2   \n",
       "top     E03349  Everly Walker  Director         IT  Manufacturing  Female   \n",
       "freq         3              2       121        241            269     518   \n",
       "\n",
       "       Ethnicity        Country     City  \n",
       "count       1000           1000     1000  \n",
       "unique         4              3       13  \n",
       "top        Asian  United States  Seattle  \n",
       "freq         404            643      118  "
      ]
     },
     "execution_count": 9,
     "metadata": {},
     "output_type": "execute_result"
    }
   ],
   "source": [
    "#Fetching the object description of the data\n",
    "df.describe(include=object)"
   ]
  },
  {
   "cell_type": "code",
   "execution_count": 10,
   "metadata": {},
   "outputs": [
    {
     "name": "stdout",
     "output_type": "stream",
     "text": [
      "       EEID        Full Name                 Job Title  Department  \\\n",
      "0    E02387      Emily Davis                Sr. Manger          IT   \n",
      "1    E04105    Theodore Dinh       Technical Architect          IT   \n",
      "2    E02572     Luna Sanders                  Director     Finance   \n",
      "3    E02832  Penelope Jordan  Computer Systems Manager          IT   \n",
      "4    E01639        Austin Vo               Sr. Analyst     Finance   \n",
      "..      ...              ...                       ...         ...   \n",
      "995  E03094     Wesley Young               Sr. Analyst   Marketing   \n",
      "996  E01909     Lillian Khan                   Analyst     Finance   \n",
      "997  E04398      Oliver Yang                  Director   Marketing   \n",
      "998  E02521      Lily Nguyen               Sr. Analyst     Finance   \n",
      "999  E03545      Sofia Cheng            Vice President  Accounting   \n",
      "\n",
      "              Business Unit  Gender  Ethnicity  Age  Hire Date  Annual Salary  \\\n",
      "0    Research & Development  Female      Black   55 2016-04-08         141604   \n",
      "1             Manufacturing    Male      Asian   59 1997-11-29          99975   \n",
      "2       Speciality Products  Female  Caucasian   50 2006-10-26         163099   \n",
      "3             Manufacturing  Female  Caucasian   26 2019-09-27          84913   \n",
      "4             Manufacturing    Male      Asian   55 1995-11-20          95409   \n",
      "..                      ...     ...        ...  ...        ...            ...   \n",
      "995     Speciality Products    Male  Caucasian   33 2016-09-18          98427   \n",
      "996     Speciality Products  Female      Asian   44 2010-05-31          47387   \n",
      "997     Speciality Products    Male      Asian   31 2019-06-10         176710   \n",
      "998     Speciality Products  Female      Asian   33 2012-01-28          95960   \n",
      "999               Corporate  Female      Asian   63 2020-07-26         216195   \n",
      "\n",
      "     Bonus %        Country       City  Exit Date  \n",
      "0       0.15  United States    Seattle 2021-10-16  \n",
      "1       0.00          China  Chongqing        NaT  \n",
      "2       0.20  United States    Chicago        NaT  \n",
      "3       0.07  United States    Chicago        NaT  \n",
      "4       0.00  United States    Phoenix        NaT  \n",
      "..       ...            ...        ...        ...  \n",
      "995     0.00  United States   Columbus        NaT  \n",
      "996     0.00          China    Chengdu 2018-01-08  \n",
      "997     0.15  United States      Miami        NaT  \n",
      "998     0.00          China    Chengdu        NaT  \n",
      "999     0.31  United States      Miami        NaT  \n",
      "\n",
      "[911 rows x 14 columns]\n"
     ]
    }
   ],
   "source": [
    "#Cleaning the data \n",
    "df_cleaned=df.drop_duplicates(subset=['EEID'])\n",
    "print(df_cleaned)"
   ]
  },
  {
   "cell_type": "code",
   "execution_count": 11,
   "metadata": {},
   "outputs": [
    {
     "data": {
      "text/html": [
       "<div>\n",
       "<style scoped>\n",
       "    .dataframe tbody tr th:only-of-type {\n",
       "        vertical-align: middle;\n",
       "    }\n",
       "\n",
       "    .dataframe tbody tr th {\n",
       "        vertical-align: top;\n",
       "    }\n",
       "\n",
       "    .dataframe thead th {\n",
       "        text-align: right;\n",
       "    }\n",
       "</style>\n",
       "<table border=\"1\" class=\"dataframe\">\n",
       "  <thead>\n",
       "    <tr style=\"text-align: right;\">\n",
       "      <th></th>\n",
       "      <th>count</th>\n",
       "      <th>mean</th>\n",
       "      <th>min</th>\n",
       "      <th>25%</th>\n",
       "      <th>50%</th>\n",
       "      <th>75%</th>\n",
       "      <th>max</th>\n",
       "      <th>std</th>\n",
       "    </tr>\n",
       "  </thead>\n",
       "  <tbody>\n",
       "    <tr>\n",
       "      <th>Age</th>\n",
       "      <td>911.0</td>\n",
       "      <td>44.272228</td>\n",
       "      <td>25.0</td>\n",
       "      <td>34.0</td>\n",
       "      <td>45.0</td>\n",
       "      <td>54.0</td>\n",
       "      <td>65.0</td>\n",
       "      <td>11.368188</td>\n",
       "    </tr>\n",
       "    <tr>\n",
       "      <th>Hire Date</th>\n",
       "      <td>911</td>\n",
       "      <td>2012-05-18 23:44:11.591657472</td>\n",
       "      <td>1992-01-09 00:00:00</td>\n",
       "      <td>2007-04-09 00:00:00</td>\n",
       "      <td>2014-02-11 00:00:00</td>\n",
       "      <td>2018-07-26 00:00:00</td>\n",
       "      <td>2021-12-26 00:00:00</td>\n",
       "      <td>NaN</td>\n",
       "    </tr>\n",
       "    <tr>\n",
       "      <th>Annual Salary</th>\n",
       "      <td>911.0</td>\n",
       "      <td>113340.703622</td>\n",
       "      <td>40063.0</td>\n",
       "      <td>71465.0</td>\n",
       "      <td>96441.0</td>\n",
       "      <td>150941.0</td>\n",
       "      <td>258498.0</td>\n",
       "      <td>53459.354933</td>\n",
       "    </tr>\n",
       "    <tr>\n",
       "      <th>Bonus %</th>\n",
       "      <td>911.0</td>\n",
       "      <td>0.088836</td>\n",
       "      <td>0.0</td>\n",
       "      <td>0.0</td>\n",
       "      <td>0.0</td>\n",
       "      <td>0.15</td>\n",
       "      <td>0.4</td>\n",
       "      <td>0.118337</td>\n",
       "    </tr>\n",
       "    <tr>\n",
       "      <th>Exit Date</th>\n",
       "      <td>78</td>\n",
       "      <td>2017-02-10 07:04:36.923076864</td>\n",
       "      <td>1994-12-18 00:00:00</td>\n",
       "      <td>2015-07-22 12:00:00</td>\n",
       "      <td>2019-12-16 12:00:00</td>\n",
       "      <td>2021-04-28 06:00:00</td>\n",
       "      <td>2022-08-17 00:00:00</td>\n",
       "      <td>NaN</td>\n",
       "    </tr>\n",
       "  </tbody>\n",
       "</table>\n",
       "</div>"
      ],
      "text/plain": [
       "               count                           mean                  min  \\\n",
       "Age            911.0                      44.272228                 25.0   \n",
       "Hire Date        911  2012-05-18 23:44:11.591657472  1992-01-09 00:00:00   \n",
       "Annual Salary  911.0                  113340.703622              40063.0   \n",
       "Bonus %        911.0                       0.088836                  0.0   \n",
       "Exit Date         78  2017-02-10 07:04:36.923076864  1994-12-18 00:00:00   \n",
       "\n",
       "                               25%                  50%                  75%  \\\n",
       "Age                           34.0                 45.0                 54.0   \n",
       "Hire Date      2007-04-09 00:00:00  2014-02-11 00:00:00  2018-07-26 00:00:00   \n",
       "Annual Salary              71465.0              96441.0             150941.0   \n",
       "Bonus %                        0.0                  0.0                 0.15   \n",
       "Exit Date      2015-07-22 12:00:00  2019-12-16 12:00:00  2021-04-28 06:00:00   \n",
       "\n",
       "                               max           std  \n",
       "Age                           65.0     11.368188  \n",
       "Hire Date      2021-12-26 00:00:00           NaN  \n",
       "Annual Salary             258498.0  53459.354933  \n",
       "Bonus %                        0.4      0.118337  \n",
       "Exit Date      2022-08-17 00:00:00           NaN  "
      ]
     },
     "execution_count": 11,
     "metadata": {},
     "output_type": "execute_result"
    }
   ],
   "source": [
    "# Fetching the description of cleaned data set\n",
    "df_cleaned.describe().T"
   ]
  },
  {
   "cell_type": "code",
   "execution_count": 12,
   "metadata": {},
   "outputs": [
    {
     "data": {
      "text/html": [
       "<div>\n",
       "<style scoped>\n",
       "    .dataframe tbody tr th:only-of-type {\n",
       "        vertical-align: middle;\n",
       "    }\n",
       "\n",
       "    .dataframe tbody tr th {\n",
       "        vertical-align: top;\n",
       "    }\n",
       "\n",
       "    .dataframe thead th {\n",
       "        text-align: right;\n",
       "    }\n",
       "</style>\n",
       "<table border=\"1\" class=\"dataframe\">\n",
       "  <thead>\n",
       "    <tr style=\"text-align: right;\">\n",
       "      <th></th>\n",
       "      <th>count</th>\n",
       "      <th>unique</th>\n",
       "      <th>top</th>\n",
       "      <th>freq</th>\n",
       "    </tr>\n",
       "  </thead>\n",
       "  <tbody>\n",
       "    <tr>\n",
       "      <th>EEID</th>\n",
       "      <td>911</td>\n",
       "      <td>911</td>\n",
       "      <td>E02387</td>\n",
       "      <td>1</td>\n",
       "    </tr>\n",
       "    <tr>\n",
       "      <th>Full Name</th>\n",
       "      <td>911</td>\n",
       "      <td>905</td>\n",
       "      <td>Everly Walker</td>\n",
       "      <td>2</td>\n",
       "    </tr>\n",
       "    <tr>\n",
       "      <th>Job Title</th>\n",
       "      <td>911</td>\n",
       "      <td>33</td>\n",
       "      <td>Director</td>\n",
       "      <td>111</td>\n",
       "    </tr>\n",
       "    <tr>\n",
       "      <th>Department</th>\n",
       "      <td>911</td>\n",
       "      <td>7</td>\n",
       "      <td>IT</td>\n",
       "      <td>215</td>\n",
       "    </tr>\n",
       "    <tr>\n",
       "      <th>Business Unit</th>\n",
       "      <td>911</td>\n",
       "      <td>4</td>\n",
       "      <td>Manufacturing</td>\n",
       "      <td>248</td>\n",
       "    </tr>\n",
       "    <tr>\n",
       "      <th>Gender</th>\n",
       "      <td>911</td>\n",
       "      <td>2</td>\n",
       "      <td>Female</td>\n",
       "      <td>473</td>\n",
       "    </tr>\n",
       "    <tr>\n",
       "      <th>Ethnicity</th>\n",
       "      <td>911</td>\n",
       "      <td>4</td>\n",
       "      <td>Asian</td>\n",
       "      <td>363</td>\n",
       "    </tr>\n",
       "    <tr>\n",
       "      <th>Country</th>\n",
       "      <td>911</td>\n",
       "      <td>3</td>\n",
       "      <td>United States</td>\n",
       "      <td>578</td>\n",
       "    </tr>\n",
       "    <tr>\n",
       "      <th>City</th>\n",
       "      <td>911</td>\n",
       "      <td>13</td>\n",
       "      <td>Seattle</td>\n",
       "      <td>107</td>\n",
       "    </tr>\n",
       "  </tbody>\n",
       "</table>\n",
       "</div>"
      ],
      "text/plain": [
       "              count unique            top freq\n",
       "EEID            911    911         E02387    1\n",
       "Full Name       911    905  Everly Walker    2\n",
       "Job Title       911     33       Director  111\n",
       "Department      911      7             IT  215\n",
       "Business Unit   911      4  Manufacturing  248\n",
       "Gender          911      2         Female  473\n",
       "Ethnicity       911      4          Asian  363\n",
       "Country         911      3  United States  578\n",
       "City            911     13        Seattle  107"
      ]
     },
     "execution_count": 12,
     "metadata": {},
     "output_type": "execute_result"
    }
   ],
   "source": [
    "# Fetching the description by objects\n",
    "df_cleaned.describe(include=object).T"
   ]
  },
  {
   "cell_type": "code",
   "execution_count": 13,
   "metadata": {},
   "outputs": [
    {
     "name": "stdout",
     "output_type": "stream",
     "text": [
      "Sorted Data:\n",
      "       EEID        Full Name          Job Title   Department  \\\n",
      "661  E01006     Autumn Leung     Vice President      Finance   \n",
      "839  E01242       Emery Doan  Controls Engineer  Engineering   \n",
      "307  E01466      Connor Vang            Analyst        Sales   \n",
      "496  E03971     Lillian Chen         Sr. Manger    Marketing   \n",
      "980  E00785     Hannah Hoang            Manager   Accounting   \n",
      "..      ...              ...                ...          ...   \n",
      "581  E00555    Christian Ali         Analyst II    Marketing   \n",
      "31   E00402   Dominic Guzman            Analyst      Finance   \n",
      "873  E01108  Hannah Martinez            Manager    Marketing   \n",
      "285  E03300       Maria Chin            Analyst    Marketing   \n",
      "629  E04739  Ruby Washington            Analyst    Marketing   \n",
      "\n",
      "              Business Unit  Gender Ethnicity  Age  Hire Date  Annual Salary  \\\n",
      "661  Research & Development  Female     Asian   25 2021-11-15         210708   \n",
      "839               Corporate  Female     Asian   25 2021-06-23          86464   \n",
      "307     Speciality Products    Male     Asian   25 2021-07-28          46845   \n",
      "496  Research & Development  Female     Asian   25 2020-04-09         157057   \n",
      "980     Speciality Products  Female     Asian   25 2021-12-15         114893   \n",
      "..                      ...     ...       ...  ...        ...            ...   \n",
      "581  Research & Development    Male     Asian   65 2001-10-17          74631   \n",
      "31            Manufacturing    Male    Latino   65 2004-05-16          55499   \n",
      "873           Manufacturing  Female    Latino   65 2006-09-07         127626   \n",
      "285           Manufacturing  Female     Asian   65 2013-09-26          50341   \n",
      "629  Research & Development  Female     Black   65 2011-06-17          56686   \n",
      "\n",
      "     Bonus %        Country       City  Exit Date  \n",
      "661     0.33  United States    Chicago        NaT  \n",
      "839     0.00          China   Shanghai        NaT  \n",
      "307     0.00  United States      Miami        NaT  \n",
      "496     0.10  United States   Columbus        NaT  \n",
      "980     0.06          China    Chengdu        NaT  \n",
      "..       ...            ...        ...        ...  \n",
      "581     0.00          China  Chongqing        NaT  \n",
      "31      0.00         Brazil     Manaus        NaT  \n",
      "873     0.10  United States      Miami        NaT  \n",
      "285     0.00          China    Beijing        NaT  \n",
      "629     0.00  United States    Seattle 2015-06-09  \n",
      "\n",
      "[911 rows x 14 columns]\n",
      "Mean of the Age is:  44.27222832052689\n",
      "Median of the Age is:  45.0\n",
      "Mode of the Age is:  45\n",
      "Standerd Deviation of the Age is:  11.368188088422293\n"
     ]
    }
   ],
   "source": [
    "# calculate the mean,median,mode and standerd daviation for Age\n",
    "df_sorted_age=df_cleaned.sort_values(by='Age',ascending=True)#Sorting the data by Age\n",
    "print('Sorted Data:')\n",
    "print(df_sorted_age)\n",
    "#calculate the mean of age\n",
    "Mean=df_sorted_age['Age'].mean()\n",
    "print(\"Mean of the Age is: \",Mean)\n",
    "#Claculate the median of the age\n",
    "Median=df_sorted_age['Age'].median()\n",
    "print(\"Median of the Age is: \",Median)\n",
    "\n",
    "#Claculate the mode of the age\n",
    "Mode=df_sorted_age['Age'].mode().iloc[0]\n",
    "print(\"Mode of the Age is: \",Mode)\n",
    "\n",
    "#Claculate the standerd deviation of the age\n",
    "Standerd_deviation=df_sorted_age['Age'].std()\n",
    "print(\"Standerd Deviation of the Age is: \",Standerd_deviation)\n",
    "\n"
   ]
  },
  {
   "cell_type": "code",
   "execution_count": 14,
   "metadata": {},
   "outputs": [
    {
     "name": "stdout",
     "output_type": "stream",
     "text": [
      "Sorted Data:\n",
      "       EEID     Full Name        Job Title  Department  \\\n",
      "781  E03928    Miles Dang   IT Coordinator          IT   \n",
      "782  E04109   Leah Bryant   IT Coordinator          IT   \n",
      "823  E00862   Levi Moreno  Systems Analyst          IT   \n",
      "182  E03719    Jack Brown          Analyst   Marketing   \n",
      "787  E02732    Alice Tran          Analyst   Marketing   \n",
      "..      ...           ...              ...         ...   \n",
      "610  E04170  Grayson Chin   Vice President          IT   \n",
      "549  E01371    Dominic Le   Vice President   Marketing   \n",
      "900  E02522  Silas Rivera   Vice President       Sales   \n",
      "232  E04742  Kinsley Vega   Vice President  Accounting   \n",
      "989  E04354  Raelynn Rios   Vice President       Sales   \n",
      "\n",
      "              Business Unit  Gender  Ethnicity  Age  Hire Date  Annual Salary  \\\n",
      "781     Speciality Products    Male      Asian   61 2000-09-24          40063   \n",
      "782           Manufacturing  Female  Caucasian   55 2004-04-30          40124   \n",
      "823  Research & Development    Male     Latino   64 2020-06-27          40316   \n",
      "182               Corporate    Male  Caucasian   55 2004-12-07          40752   \n",
      "787               Corporate  Female      Asian   39 2014-07-29          40897   \n",
      "..                      ...     ...        ...  ...        ...            ...   \n",
      "610  Research & Development    Male      Asian   26 2020-05-09         256561   \n",
      "549               Corporate    Male      Asian   41 2014-10-04         257194   \n",
      "900               Corporate    Male     Latino   48 2000-02-28         258081   \n",
      "232               Corporate  Female     Latino   33 2020-12-16         258426   \n",
      "989           Manufacturing  Female     Latino   43 2016-08-21         258498   \n",
      "\n",
      "     Bonus %        Country            City Exit Date  \n",
      "781     0.00  United States           Miami       NaT  \n",
      "782     0.00  United States          Austin       NaT  \n",
      "823     0.00         Brazil          Manaus       NaT  \n",
      "182     0.00  United States         Phoenix       NaT  \n",
      "787     0.00  United States         Seattle       NaT  \n",
      "..       ...            ...             ...       ...  \n",
      "610     0.39  United States          Austin       NaT  \n",
      "549     0.35          China       Chongqing       NaT  \n",
      "900     0.30  United States         Chicago       NaT  \n",
      "232     0.40         Brazil  Rio de Janerio       NaT  \n",
      "989     0.35  United States        Columbus       NaT  \n",
      "\n",
      "[911 rows x 14 columns]\n",
      "Mean of the Annual Salary is:  113340.70362239298\n",
      "Median of the Annual Salary is:  96441.0\n",
      "Mode of the Annual Salary is:  70165\n",
      "Standerd Deviation of the Annual Salary is:  53459.35493250902\n"
     ]
    }
   ],
   "source": [
    "# calculate the mean,median,mode and standerd daviation for Anual salary\n",
    "df_sorted_Annual_Salary=df_cleaned.sort_values(by='Annual Salary',ascending=True)#Sorting the data by Age\n",
    "print('Sorted Data:')\n",
    "print(df_sorted_Annual_Salary)\n",
    "#calculate the mean of Annual Salary\n",
    "Mean=df_sorted_Annual_Salary['Annual Salary'].mean()\n",
    "print(\"Mean of the Annual Salary is: \",Mean)\n",
    "#Claculate the median of the age\n",
    "Median=df_sorted_Annual_Salary['Annual Salary'].median()\n",
    "print(\"Median of the Annual Salary is: \",Median)\n",
    "\n",
    "#Claculate the mode of the age\n",
    "Mode=df_sorted_Annual_Salary['Annual Salary'].mode().iloc[0]\n",
    "print(\"Mode of the Annual Salary is: \",Mode)\n",
    "\n",
    "#Claculate the standerd deviation of the age\n",
    "Standerd_deviation=df_sorted_Annual_Salary['Annual Salary'].std()\n",
    "print(\"Standerd Deviation of the Annual Salary is: \",Standerd_deviation)\n"
   ]
  },
  {
   "cell_type": "code",
   "execution_count": 15,
   "metadata": {},
   "outputs": [
    {
     "name": "stdout",
     "output_type": "stream",
     "text": [
      "The correlation between Annual Salary and Age is:  -0.026072791677556568\n"
     ]
    }
   ],
   "source": [
    "# Calculate the correlation of Annual Salary and age\n",
    "correlation = df_sorted_age['Age'].corr(df_sorted_age['Annual Salary'])\n",
    "print(\"The correlation between Annual Salary and Age is: \",correlation)\n",
    "\n",
    "\n"
   ]
  },
  {
   "cell_type": "code",
   "execution_count": 16,
   "metadata": {},
   "outputs": [
    {
     "name": "stdout",
     "output_type": "stream",
     "text": [
      "The correlation between  Bonus and Age is:  -0.011429002193886447\n"
     ]
    }
   ],
   "source": [
    "# Calculate the correlation of Age and Bonus\n",
    "correlation = df_sorted_age['Age'].corr(df_sorted_age['Bonus %'])\n",
    "print(\"The correlation between  Bonus and Age is: \",correlation)"
   ]
  },
  {
   "cell_type": "code",
   "execution_count": 17,
   "metadata": {},
   "outputs": [
    {
     "name": "stdout",
     "output_type": "stream",
     "text": [
      "The correlation between Annual Salary and Bonus is:  0.9270219498493707\n"
     ]
    }
   ],
   "source": [
    "# Calculate the correlation of Annual Salary and Bonus\n",
    "correlation = df_sorted_age['Annual Salary'].corr(df_sorted_age['Bonus %'])\n",
    "print(\"The correlation between Annual Salary and Bonus is: \",correlation)"
   ]
  },
  {
   "cell_type": "code",
   "execution_count": 18,
   "metadata": {},
   "outputs": [
    {
     "name": "stdout",
     "output_type": "stream",
     "text": [
      "Gender\n",
      "Female    473\n",
      "Male      438\n",
      "Name: count, dtype: int64\n",
      "Gender\n",
      "Female    0.51921\n",
      "Male      0.48079\n",
      "Name: proportion, dtype: float64\n"
     ]
    }
   ],
   "source": [
    "# Calculate the Gender \n",
    "# Calculate the Gender Percentage\n",
    "print(df_cleaned['Gender'].value_counts())\n",
    "print(df_cleaned['Gender'].value_counts(normalize=True))"
   ]
  },
  {
   "cell_type": "code",
   "execution_count": 19,
   "metadata": {},
   "outputs": [
    {
     "name": "stdout",
     "output_type": "stream",
     "text": [
      "5 Largest annual salaries are: \n",
      "       EEID     Full Name       Job Title  Department           Business Unit  \\\n",
      "989  E04354  Raelynn Rios  Vice President       Sales           Manufacturing   \n",
      "232  E04742  Kinsley Vega  Vice President  Accounting               Corporate   \n",
      "900  E02522  Silas Rivera  Vice President       Sales               Corporate   \n",
      "549  E01371    Dominic Le  Vice President   Marketing               Corporate   \n",
      "610  E04170  Grayson Chin  Vice President          IT  Research & Development   \n",
      "\n",
      "     Gender Ethnicity  Age  Hire Date  Annual Salary  Bonus %        Country  \\\n",
      "989  Female    Latino   43 2016-08-21         258498     0.35  United States   \n",
      "232  Female    Latino   33 2020-12-16         258426     0.40         Brazil   \n",
      "900    Male    Latino   48 2000-02-28         258081     0.30  United States   \n",
      "549    Male     Asian   41 2014-10-04         257194     0.35          China   \n",
      "610    Male     Asian   26 2020-05-09         256561     0.39  United States   \n",
      "\n",
      "               City Exit Date  \n",
      "989        Columbus       NaT  \n",
      "232  Rio de Janerio       NaT  \n",
      "900         Chicago       NaT  \n",
      "549       Chongqing       NaT  \n",
      "610          Austin       NaT  \n"
     ]
    }
   ],
   "source": [
    "# Fetching the date of 5 largest records of Annual Salary\n",
    "print(\"5 Largest annual salaries are: \")\n",
    "print(df_cleaned.nlargest(5,'Annual Salary'))"
   ]
  },
  {
   "cell_type": "code",
   "execution_count": 20,
   "metadata": {},
   "outputs": [
    {
     "name": "stdout",
     "output_type": "stream",
     "text": [
      "5 Largest Age are: \n",
      "       EEID       Full Name Job Title       Department  \\\n",
      "16   E00163    Bella Powell  Director          Finance   \n",
      "31   E00402  Dominic Guzman   Analyst          Finance   \n",
      "123  E03061    Vivian Lewis   Manager        Marketing   \n",
      "257  E00976   Zoe Rodriguez  Director  Human Resources   \n",
      "285  E03300      Maria Chin   Analyst        Marketing   \n",
      "\n",
      "              Business Unit  Gender  Ethnicity  Age  Hire Date  Annual Salary  \\\n",
      "16   Research & Development  Female      Black   65 2002-03-04         175837   \n",
      "31            Manufacturing    Male     Latino   65 2004-05-16          55499   \n",
      "123           Manufacturing  Female  Caucasian   65 2011-09-07         104903   \n",
      "257     Speciality Products  Female     Latino   65 2004-05-23         153938   \n",
      "285           Manufacturing  Female      Asian   65 2013-09-26          50341   \n",
      "\n",
      "     Bonus %        Country      City Exit Date  \n",
      "16       0.2  United States   Phoenix       NaT  \n",
      "31       0.0         Brazil    Manaus       NaT  \n",
      "123      0.1  United States  Columbus       NaT  \n",
      "257      0.2  United States   Phoenix       NaT  \n",
      "285      0.0          China   Beijing       NaT  \n"
     ]
    }
   ],
   "source": [
    "# Fetching the date of 5 largest records of Age\n",
    "print(\"5 Largest Age are: \")\n",
    "print(df_cleaned.nlargest(5,'Age'))"
   ]
  },
  {
   "cell_type": "code",
   "execution_count": 21,
   "metadata": {},
   "outputs": [
    {
     "name": "stdout",
     "output_type": "stream",
     "text": [
      "5 Largest Bonus are: \n",
      "       EEID       Full Name       Job Title   Department  \\\n",
      "74   E00791  Thomas Padilla  Vice President    Marketing   \n",
      "134  E02464    Sophie Silva  Vice President  Engineering   \n",
      "168  E00085       Isla Wong  Vice President   Accounting   \n",
      "209  E01486       Mason Cho  Vice President   Accounting   \n",
      "232  E04742    Kinsley Vega  Vice President   Accounting   \n",
      "\n",
      "              Business Unit  Gender Ethnicity  Age  Hire Date  Annual Salary  \\\n",
      "74   Research & Development    Male    Latino   57 2003-07-26         206624   \n",
      "134               Corporate  Female    Latino   28 2017-07-06         240488   \n",
      "168               Corporate  Female     Asian   56 2014-03-16         190815   \n",
      "209  Research & Development    Male     Asian   59 2011-05-18         192213   \n",
      "232               Corporate  Female    Latino   33 2020-12-16         258426   \n",
      "\n",
      "     Bonus %        Country            City Exit Date  \n",
      "74       0.4         Brazil       Sao Paulo       NaT  \n",
      "134      0.4         Brazil  Rio de Janerio       NaT  \n",
      "168      0.4  United States          Austin       NaT  \n",
      "209      0.4  United States         Chicago       NaT  \n",
      "232      0.4         Brazil  Rio de Janerio       NaT  \n"
     ]
    }
   ],
   "source": [
    "# Fetching the date of 5 largest records of Bonus\n",
    "print(\"5 Largest Bonus are: \")\n",
    "print(df_cleaned.nlargest(5,'Bonus %'))"
   ]
  },
  {
   "cell_type": "code",
   "execution_count": 22,
   "metadata": {},
   "outputs": [
    {
     "name": "stdout",
     "output_type": "stream",
     "text": [
      "       EEID          Full Name            Job Title   Department  \\\n",
      "906  E02710        Silas Huang  Engineering Manager  Engineering   \n",
      "876  E01967          John Dang             Director        Sales   \n",
      "127  E03042         Ava Nelson      Systems Analyst           IT   \n",
      "81   E01525          Jose Ross  Engineering Manager  Engineering   \n",
      "648  E01591      Paisley Trinh  Technical Architect           IT   \n",
      "..      ...                ...                  ...          ...   \n",
      "666  E04720  Christopher Chung    Controls Engineer  Engineering   \n",
      "984  E02191          Maria Sun             Director        Sales   \n",
      "166  E04130     Elias Figueroa           Sr. Manger      Finance   \n",
      "806  E04249        Hadley Dang       Vice President   Accounting   \n",
      "208  E02121         Levi Brown          Sr. Analyst        Sales   \n",
      "\n",
      "              Business Unit  Gender  Ethnicity  Age  Hire Date  Annual Salary  \\\n",
      "906  Research & Development    Male      Asian   57 1992-01-09         111299   \n",
      "876               Corporate    Male      Asian   58 1992-03-19         199848   \n",
      "127           Manufacturing  Female  Caucasian   63 1992-04-01          53809   \n",
      "81   Research & Development    Male  Caucasian   53 1992-04-08         116878   \n",
      "648               Corporate  Female      Asian   57 1992-05-04          76202   \n",
      "..                      ...     ...        ...  ...        ...            ...   \n",
      "666               Corporate    Male      Asian   28 2021-12-18          95670   \n",
      "984               Corporate  Female      Asian   25 2021-12-19         150666   \n",
      "166               Corporate    Male     Latino   45 2021-12-24         144754   \n",
      "806               Corporate  Female      Asian   47 2021-12-26         243568   \n",
      "208               Corporate    Male      Black   36 2021-12-26          75119   \n",
      "\n",
      "     Bonus %        Country       City  Exit Date  \n",
      "906     0.12  United States      Miami        NaT  \n",
      "876     0.16          China  Chongqing        NaT  \n",
      "127     0.00  United States    Phoenix        NaT  \n",
      "81      0.11  United States      Miami        NaT  \n",
      "648     0.00  United States     Austin 1994-12-18  \n",
      "..       ...            ...        ...        ...  \n",
      "666     0.00  United States    Phoenix        NaT  \n",
      "984     0.23          China    Chengdu        NaT  \n",
      "166     0.15  United States    Phoenix        NaT  \n",
      "806     0.33  United States     Austin        NaT  \n",
      "208     0.00  United States    Chicago        NaT  \n",
      "\n",
      "[911 rows x 14 columns]\n"
     ]
    }
   ],
   "source": [
    "# Sorting the data by Hire Date\n",
    "df['Hire Date'] = pd.to_datetime(df['Hire Date'])\n",
    "df_sorted_HireDate=df_cleaned.sort_values('Hire Date',ascending=True)\n",
    "print(df_sorted_HireDate)\n"
   ]
  },
  {
   "cell_type": "code",
   "execution_count": 23,
   "metadata": {},
   "outputs": [
    {
     "name": "stdout",
     "output_type": "stream",
     "text": [
      "5 Largest Hire Dates are: \n",
      "       EEID          Full Name          Job Title   Department Business Unit  \\\n",
      "208  E02121         Levi Brown        Sr. Analyst        Sales     Corporate   \n",
      "806  E04249        Hadley Dang     Vice President   Accounting     Corporate   \n",
      "166  E04130     Elias Figueroa         Sr. Manger      Finance     Corporate   \n",
      "984  E02191          Maria Sun           Director        Sales     Corporate   \n",
      "666  E04720  Christopher Chung  Controls Engineer  Engineering     Corporate   \n",
      "\n",
      "     Gender Ethnicity  Age  Hire Date  Annual Salary  Bonus %        Country  \\\n",
      "208    Male     Black   36 2021-12-26          75119     0.00  United States   \n",
      "806  Female     Asian   47 2021-12-26         243568     0.33  United States   \n",
      "166    Male    Latino   45 2021-12-24         144754     0.15  United States   \n",
      "984  Female     Asian   25 2021-12-19         150666     0.23          China   \n",
      "666    Male     Asian   28 2021-12-18          95670     0.00  United States   \n",
      "\n",
      "        City Exit Date  \n",
      "208  Chicago       NaT  \n",
      "806   Austin       NaT  \n",
      "166  Phoenix       NaT  \n",
      "984  Chengdu       NaT  \n",
      "666  Phoenix       NaT  \n"
     ]
    }
   ],
   "source": [
    "# Fetching the date of 5 new records of Hire Date\n",
    "print(\"5 Largest Hire Dates are: \")\n",
    "print(df_cleaned.nlargest(5,'Hire Date'))"
   ]
  },
  {
   "cell_type": "code",
   "execution_count": 24,
   "metadata": {},
   "outputs": [
    {
     "name": "stdout",
     "output_type": "stream",
     "text": [
      "5 old Hire Dates are: \n",
      "       EEID      Full Name            Job Title   Department  \\\n",
      "906  E02710    Silas Huang  Engineering Manager  Engineering   \n",
      "876  E01967      John Dang             Director        Sales   \n",
      "127  E03042     Ava Nelson      Systems Analyst           IT   \n",
      "81   E01525      Jose Ross  Engineering Manager  Engineering   \n",
      "648  E01591  Paisley Trinh  Technical Architect           IT   \n",
      "\n",
      "              Business Unit  Gender  Ethnicity  Age  Hire Date  Annual Salary  \\\n",
      "906  Research & Development    Male      Asian   57 1992-01-09         111299   \n",
      "876               Corporate    Male      Asian   58 1992-03-19         199848   \n",
      "127           Manufacturing  Female  Caucasian   63 1992-04-01          53809   \n",
      "81   Research & Development    Male  Caucasian   53 1992-04-08         116878   \n",
      "648               Corporate  Female      Asian   57 1992-05-04          76202   \n",
      "\n",
      "     Bonus %        Country       City  Exit Date  \n",
      "906     0.12  United States      Miami        NaT  \n",
      "876     0.16          China  Chongqing        NaT  \n",
      "127     0.00  United States    Phoenix        NaT  \n",
      "81      0.11  United States      Miami        NaT  \n",
      "648     0.00  United States     Austin 1994-12-18  \n"
     ]
    }
   ],
   "source": [
    "# Fetching the date of 5 old records of Hire Date\n",
    "print(\"5 old Hire Dates are: \")\n",
    "print(df_cleaned.nsmallest(5,'Hire Date'))"
   ]
  },
  {
   "cell_type": "code",
   "execution_count": 25,
   "metadata": {},
   "outputs": [
    {
     "name": "stdout",
     "output_type": "stream",
     "text": [
      "Present Asian Employees are :\n",
      "       EEID       Full Name               Job Title       Department  \\\n",
      "1    E04105   Theodore Dinh     Technical Architect               IT   \n",
      "4    E01639       Austin Vo             Sr. Analyst          Finance   \n",
      "5    E00644    Joshua Gupta  Account Representative            Sales   \n",
      "10   E00591    Savannah Ali              Sr. Manger  Human Resources   \n",
      "13   E04239    Everleigh Ng              Sr. Manger          Finance   \n",
      "..      ...             ...                     ...              ...   \n",
      "994  E01148  Scarlett Kumar         Systems Analyst               IT   \n",
      "996  E01909    Lillian Khan                 Analyst          Finance   \n",
      "997  E04398     Oliver Yang                Director        Marketing   \n",
      "998  E02521     Lily Nguyen             Sr. Analyst          Finance   \n",
      "999  E03545     Sofia Cheng          Vice President       Accounting   \n",
      "\n",
      "              Business Unit  Gender Ethnicity  Age  Hire Date  Annual Salary  \\\n",
      "1             Manufacturing    Male     Asian   59 1997-11-29          99975   \n",
      "4             Manufacturing    Male     Asian   55 1995-11-20          95409   \n",
      "5                 Corporate    Male     Asian   57 2017-01-24          50994   \n",
      "10            Manufacturing  Female     Asian   36 2009-02-11         157333   \n",
      "13   Research & Development  Female     Asian   51 2021-06-10         146742   \n",
      "..                      ...     ...       ...  ...        ...            ...   \n",
      "994               Corporate  Female     Asian   55 2009-01-07          47032   \n",
      "996     Speciality Products  Female     Asian   44 2010-05-31          47387   \n",
      "997     Speciality Products    Male     Asian   31 2019-06-10         176710   \n",
      "998     Speciality Products  Female     Asian   33 2012-01-28          95960   \n",
      "999               Corporate  Female     Asian   63 2020-07-26         216195   \n",
      "\n",
      "     Bonus %        Country       City  Exit Date  \n",
      "1       0.00          China  Chongqing        NaT  \n",
      "4       0.00  United States    Phoenix        NaT  \n",
      "5       0.00          China  Chongqing        NaT  \n",
      "10      0.15  United States      Miami        NaT  \n",
      "13      0.10          China   Shanghai        NaT  \n",
      "..       ...            ...        ...        ...  \n",
      "994     0.00  United States   Columbus        NaT  \n",
      "996     0.00          China    Chengdu 2018-01-08  \n",
      "997     0.15  United States      Miami        NaT  \n",
      "998     0.00          China    Chengdu        NaT  \n",
      "999     0.31  United States      Miami        NaT  \n",
      "\n",
      "[363 rows x 14 columns]\n"
     ]
    }
   ],
   "source": [
    "#Filtering- Only show the Ethnicity Asian\n",
    "condition=df_cleaned['Ethnicity']=='Asian'\n",
    "print('Present Asian Employees are :')\n",
    "print(df_cleaned[condition])\n"
   ]
  },
  {
   "cell_type": "code",
   "execution_count": 26,
   "metadata": {},
   "outputs": [
    {
     "name": "stdout",
     "output_type": "stream",
     "text": [
      "Unique Names:\n",
      "['Emily Davis' 'Theodore Dinh' 'Luna Sanders' 'Penelope Jordan'\n",
      " 'Austin Vo' 'Joshua Gupta' 'Ruby Barnes' 'Luke Martin' 'Easton Bailey'\n",
      " 'Madeline Walker' 'Savannah Ali' 'Camila Rogers' 'Eli Jones'\n",
      " 'Everleigh Ng' 'Robert Yang' 'Isabella Xi' 'Bella Powell' 'Camila Silva'\n",
      " 'David Barnes' 'Adam Dang' 'Elias Alvarado' 'Eva Rivera' 'Logan Rivera'\n",
      " 'Leonardo Dixon' 'Mateo Her' 'Jose Henderson' 'Abigail Mejia'\n",
      " 'Wyatt Chin' 'Carson Lu' 'Dylan Choi' 'Ezekiel Kumar' 'Dominic Guzman'\n",
      " 'Angel Powell' 'Mateo Vu' 'Caroline Jenkins' 'Nora Brown' 'Adeline Huang'\n",
      " 'Jackson Perry' 'Riley Padilla' 'Leah Pena' 'Owen Lam' 'Kennedy Foster'\n",
      " 'John Moore' 'William Vu' 'Sadie Washington' 'Gabriel Holmes'\n",
      " 'Wyatt Rojas' 'Eva Coleman' 'Dominic Clark' 'Lucy Alexander'\n",
      " 'Everleigh Washington' 'Leilani Butler' 'Peyton Huang' 'John Contreras'\n",
      " 'Rylee Yu' 'Piper Lewis' 'Stella Alexander' 'Addison Do' 'Zoey Jackson'\n",
      " 'John Chow' 'Ava Ayala' 'Natalia Salazar' 'Skylar Carrillo'\n",
      " 'Christian Sanders' 'Penelope Coleman' 'Piper Richardson' 'Everly Walker'\n",
      " 'Aurora Ali' 'Penelope Guerrero' 'Anna Mehta' 'William Foster'\n",
      " 'Jade Rojas' 'Isla Espinoza' 'David Chu' 'Thomas Padilla' 'Miles Salazar'\n",
      " 'Mila Hong' 'Benjamin Moua' 'Samuel Morales' 'John Soto' 'Joseph Martin'\n",
      " 'Jose Ross' 'Parker James' 'Everleigh Fernandez' 'Lincoln Hall'\n",
      " 'Willow Mai' 'Jack Cheng' 'Genesis Navarro' 'Eliza Hernandez'\n",
      " 'Gabriel Brooks' 'Jack Huynh' 'Everly Chow' 'Amelia Salazar'\n",
      " 'Xavier Zheng' 'Matthew Chau' 'Mia Cheng' 'Zoe Romero' 'Nolan Bui'\n",
      " 'Nevaeh Jones' 'Samantha Adams' 'Madeline Shin' 'Noah King'\n",
      " 'Leilani Chow' 'Connor Simmons' 'Grayson Cooper' 'Ivy Soto'\n",
      " 'Aurora Simmons' 'Andrew Thomas' 'Ezekiel Desai' 'Gabriella Gupta'\n",
      " 'Skylar Liu' 'Nova Coleman' 'Evelyn Dinh' 'Brooks Marquez'\n",
      " 'Connor Joseph' 'Mia Lam' 'Scarlett Rodriguez' 'Cora Rivera' 'Liam Jung'\n",
      " 'Sophia Huynh' 'Athena Carrillo' 'Greyson Sanders' 'Vivian Lewis'\n",
      " 'Elena Vang' 'Natalia Diaz' 'Mila Leung' 'Ava Nelson' 'Mateo Chu'\n",
      " 'Isla Lai' 'Ezekiel Reed' 'Nolan Guzman' 'Everleigh Espinoza'\n",
      " 'Evelyn Jung' 'Sophie Silva' 'Mateo Williams' 'Kennedy Rahman'\n",
      " 'Levi Mendez' 'Julian Fong' 'Nevaeh Kang' 'Hannah Nelson'\n",
      " 'Anthony Rogers' 'Paisley Kang' 'Matthew Gupta' 'Silas Chavez'\n",
      " 'Colton Thao' 'Genesis Perry' 'Alexander Bryant' 'Lily Carter'\n",
      " 'Joseph Ruiz' 'Avery Bailey' 'Miles Hsu' 'Piper Cheng' 'Skylar Watson'\n",
      " 'Jaxon Park' 'Elijah Henry' 'Camila Watson' 'Hudson Liu'\n",
      " 'Gianna Williams' 'Jaxson Sandoval' 'Jameson Alvarado' 'Joseph Ly'\n",
      " 'Daniel Richardson' 'Elias Figueroa' 'Emma Brooks' 'Isla Wong'\n",
      " 'Mila Pena' 'Mason Zhao' 'Jaxson Mai' 'Ava Garza' 'Nathan Mendez'\n",
      " 'Maria Griffin' 'Alexander Choi' 'Maria Hong' 'Sophie Ali' 'Julian Ross'\n",
      " 'Emma Hill' 'Leilani Yee' 'Jack Brown' 'Charlotte Chu' 'Jeremiah Chu'\n",
      " 'Caleb Marquez' 'Eli Soto' 'Carter Mejia' 'Ethan Clark' 'Asher Jackson'\n",
      " 'Ayla Ng' 'Jose Kang' 'Aubrey Romero' 'Jaxson Wright' 'Elias Ali'\n",
      " 'Nolan Pena' 'Luna Liu' 'Brooklyn Reyes' 'Hadley Parker'\n",
      " 'Jonathan Chavez' 'Sarah Ayala' 'Elijah Kang' 'Ella White'\n",
      " 'Jordan Truong' 'Daniel Jordan' 'Daniel Dixon' 'Luca Duong' 'Levi Brown'\n",
      " 'Mason Cho' 'Nova Herrera' 'Elijah Watson' 'Wesley Gray' 'Wesley Sharma'\n",
      " 'Mateo Mendez' 'Jose Molina' 'Luna Simmons' 'Samantha Barnes'\n",
      " 'Hunter Ortiz' 'Thomas Aguilar' 'Skylar Bell' 'Anna Zhu' 'Ella Hunter'\n",
      " 'Emery Hunter' 'Sofia Parker' 'Lucy Fong' 'Vivian Barnes' 'Kai Chow'\n",
      " 'Melody Cooper' 'James Bui' 'Liam Grant' 'Owen Han' 'Kinsley Vega'\n",
      " 'Leonardo Martin' 'Greyson Lam' 'Emilia Rivera' 'Penelope Johnson'\n",
      " 'Eva Figueroa' 'Ezekiel Jordan' 'Luke Mai' 'Charles Diaz' 'Adam Espinoza'\n",
      " 'Jack Maldonado' 'Cora Jiang' 'Cooper Mitchell' 'Layla Torres'\n",
      " 'Jack Edwards' 'Eleanor Chan' 'Aria Xi' 'John Vega' 'Luke Munoz'\n",
      " 'Sarah Daniels' 'Aria Castro' 'Autumn Joseph' 'Evelyn Liang'\n",
      " 'Henry Alvarez' 'Benjamin Delgado' 'Zoe Rodriguez' 'Axel Chu'\n",
      " 'Cameron Evans' 'Isabella Soto' 'Eva Jenkins' 'Cameron Powell'\n",
      " 'Samantha Foster' 'Jade Li' 'Kinsley Acosta' 'Clara Kang'\n",
      " 'Harper Alexander' 'Carter Reed' 'Everleigh Jiang' 'Audrey Smith'\n",
      " 'Emery Acosta' 'Charles Robinson' 'Landon Lopez' 'Miles Mehta'\n",
      " 'Nora Santiago' 'Caroline Herrera' 'David Owens' 'Xavier Park'\n",
      " 'Asher Morales' 'Mason Cao' 'Joshua Fong' 'Maria Chin' 'Eva Garcia'\n",
      " 'Anna Molina' 'Logan Bryant' 'Isla Han' 'Christopher Vega' 'Lillian Park'\n",
      " 'Kennedy Zhang' 'Eli Han' 'Julia Pham' 'Hailey Shin' 'Connor Grant'\n",
      " 'Natalia Owens' 'Maria He' 'Jade Yi' 'Quinn Xiong' 'Dominic Baker'\n",
      " 'Adam Nelson' 'Autumn Reed' 'Robert Edwards' 'Roman Martinez'\n",
      " 'Eleanor Li' 'Connor Vang' 'Ellie Chung' 'Violet Hall' 'Dylan Padilla'\n",
      " 'Nathan Pham' 'Ayla Brown' 'Isaac Mitchell' 'Jayden Jimenez' 'Jaxon Tran'\n",
      " 'Connor Fong' 'Emery Mitchell' 'Sophia Ahmed' 'Sofia Dinh'\n",
      " 'Jonathan Patel' 'Cora Evans' 'Cameron Young' 'Melody Ho' 'Aiden Bryant'\n",
      " 'Grayson Walker' 'Scarlett Figueroa' 'Madeline Hoang' 'Ezra Simmons'\n",
      " 'Ruby Medina' 'Luke Zheng' 'Rylee Dinh' 'Miles Evans' 'Leo Owens'\n",
      " 'Caroline Owens' 'Kennedy Do' 'Jade Acosta' 'Mila Vasquez'\n",
      " 'Allison Ayala' 'Jace Zhang' 'Allison Medina' 'Maria Wilson'\n",
      " 'Jordan Gomez' 'Isla Chavez' 'Hannah Gomez' 'Jacob Davis' 'Eli Gupta'\n",
      " 'Andrew Huynh' 'Anna Gutierrez' 'Samuel Vega' 'Liliana Do'\n",
      " 'Isaac Sanders' 'Raelynn Gupta' 'Genesis Xiong' 'Lucas Ramos'\n",
      " 'Santiago f Gonzalez' 'Emily Contreras' 'Hailey Lai' 'Vivian Guzman'\n",
      " 'Hadley Contreras' 'Nathan Sun' 'Grace Campos' 'Autumn Ortiz'\n",
      " 'Connor Walker' 'Mia Wu' 'Julia Luong' 'Eleanor Delgado'\n",
      " 'Addison Roberts' 'Camila Li' 'Ezekiel Fong' 'Dylan Thao'\n",
      " 'Josephine Salazar' 'Genesis Hu' 'Mila Juarez' 'Daniel Perry'\n",
      " 'Paisley Hunter' 'Everleigh White' 'Penelope Choi' 'Piper Sun'\n",
      " 'Lucy Johnson' 'Ian Ngo' 'Joseph Vazquez' 'Hadley Guerrero' 'Jose Brown'\n",
      " 'Benjamin Ford' 'Henry Shah' 'Thomas Chang' 'Caroline Phan'\n",
      " 'Maverick Mehta' 'Austin Edwards' 'Daniel Huang' 'Lucas Phan'\n",
      " 'Gabriel Yu' 'Angel Chang' 'Madeline Coleman' 'Thomas Vazquez'\n",
      " 'Silas Hunter' 'Nicholas Brooks' 'Dominic Thomas' 'Wesley Adams' 'Ian Wu'\n",
      " 'Alice Young' 'Logan Carrillo' 'Caroline Alexander' 'Serenity Bailey'\n",
      " 'Elena Tan' 'Eliza Adams' 'Alice Xiong' 'Isla Yoon' 'Emma Perry'\n",
      " 'Caroline Hu' 'Madison Kumar' 'Maya Ngo' 'Alice Soto' 'Andrew Moore'\n",
      " 'Olivia Harris' 'Genesis Banks' 'Victoria Johnson' 'Eloise Griffin'\n",
      " 'Roman Yang' 'Clara Huynh' 'Kai Flores' 'Jaxson Dinh' 'Sophie Vang'\n",
      " 'Axel Jordan' 'Jade Hunter' 'Lydia Williams' 'Emery Chang' 'Savannah He'\n",
      " 'Elias Ahmed' 'Samantha Woods' 'Axel Soto' 'Amelia Choi' 'Jacob Khan'\n",
      " 'Luna Taylor' 'Dominic Parker' 'Angel Xiong' 'Emma Cao' 'Ezekiel Bryant'\n",
      " 'Natalie Hwang' 'Adeline Yang' 'Allison Roberts' 'Andrew Do'\n",
      " 'Eliana Grant' 'Mila Soto' 'Jonathan Khan' 'Elias Dang' 'Theodore Ngo'\n",
      " 'Bella Lopez' 'Luca Truong' 'Nathan Lau' 'Henry Campos' 'Connor Bell'\n",
      " 'Angel Stewart' 'Landon Brown' 'Nicholas Rivera' 'Gabriel Carter'\n",
      " 'Leilani Baker' 'Ian Flores' 'Hudson Thompson' 'Ian Miller'\n",
      " 'Santiago f Brooks' 'Dylan Dominguez' 'Everett Lee' 'Madelyn Mehta'\n",
      " 'Athena Vasquez' 'William Watson' 'Everleigh Nunez' 'Leo Fernandez'\n",
      " 'Joshua Lin' 'Alexander Rivera' 'David Desai' 'Ella Nguyen'\n",
      " 'Athena Jordan' 'Adrian Ruiz' 'Zoe Sanchez' 'Jameson Chen' 'Liliana Soto'\n",
      " 'Grayson Soto' 'Julia Morris' 'Ava Ortiz' 'Carson Chau' 'Lillian Chen'\n",
      " 'Josiah Lewis' 'Claire Jones' 'Jeremiah Lu' 'Nova Hill' 'Peyton Cruz'\n",
      " 'Naomi Zhao' 'Rylee Bui' 'Andrew Reed' 'Brooklyn Collins' 'John Jung'\n",
      " 'Samantha Aguilar' 'Madeline Acosta' 'Ethan Joseph' 'Joshua Juarez'\n",
      " 'Matthew Howard' 'Jade Figueroa' 'Everett Morales' 'Henry Figueroa'\n",
      " 'Nicholas Song' 'Jack Alexander' 'Jameson Foster' 'Leonardo Lo'\n",
      " 'Ella Huang' 'Isaac Woods' 'Luke Wilson' 'Lyla Alvarez' 'Caleb Flores'\n",
      " 'Angel Lin' 'Kinsley Collins' 'Brooklyn Salazar' 'Scarlett Jenkins'\n",
      " 'Melody Chin' 'Eloise Alexander' 'Carter Turner' 'Andrew Ma' 'Hailey Xi'\n",
      " 'Aiden Le' 'Christopher Lim' 'James Castillo' 'Greyson Dang'\n",
      " 'Hannah King' 'Wesley Dominguez' 'Dominic Hu' 'Nora Park' 'Audrey Hwang'\n",
      " 'Peyton Owens' 'Alice Lopez' 'Dominic Le' 'Ezra Ortiz' 'Grayson Luu'\n",
      " 'Brooks Stewart' 'Naomi Xi' 'Silas Estrada' 'Skylar Ayala' 'Lydia Huynh'\n",
      " 'Everleigh Adams' 'Willow Chen' 'Penelope Griffin' 'Lillian Romero'\n",
      " 'Stella Wu' 'Mila Roberts' 'Isaac Liu' 'Jacob Doan' 'Jameson Juarez'\n",
      " 'Everleigh Shah' 'Alexander Foster' 'Ryan Ha' 'Chloe Salazar'\n",
      " 'Layla Scott' 'Mason Jimenez' 'Hailey Dang' 'Amelia Bui' 'Elena Her'\n",
      " 'Ian Cortez' 'Christian Ali' 'Carter Ortiz' 'Grayson Chan' 'Nolan Molina'\n",
      " 'Adam Kaur' 'Amelia Kaur' 'Autumn Gonzales' 'Ezra Wilson' 'Jacob Cheng'\n",
      " 'Melody Valdez' 'Caroline Nelson' 'Ellie Guerrero' 'Genesis Zhu'\n",
      " 'Jonathan Ho' 'Savannah Park' 'Nathan Chan' 'Sofia Vu' 'Lily Pena'\n",
      " 'Liam Zhang' 'Ian Gutierrez' 'David Simmons' 'Lincoln Henderson'\n",
      " 'Nathan Miller' 'James Singh' 'Kayden Ortega' 'Joshua Cortez'\n",
      " 'Alexander Morris' 'Grayson Chin' 'Allison Espinoza' 'Sebastian Gupta'\n",
      " 'Eloise Pham' 'Brooklyn Daniels' 'Paisley Gomez' 'Madison Li'\n",
      " 'Logan Soto' 'Charlotte Vo' 'Alice Thompson' 'Peyton Garza' 'Nora Nelson'\n",
      " 'Maverick Li' 'Ian Barnes' 'Athena Vu' 'Ruby Washington' 'Bella Butler'\n",
      " 'Kinsley Henry' 'Zoe Do' 'Anna Han' 'Leilani Sharma' 'Nova Williams'\n",
      " 'Scarlett Hill' 'Dominic Scott' 'Anthony Marquez' 'Elena Patterson'\n",
      " 'Madison Nelson' 'William Walker' 'Lincoln Wong' 'Emery Ford'\n",
      " 'Paisley Trinh' 'Hudson Williams' 'Harper Phan' 'Madeline Allen'\n",
      " 'Charles Moore' 'Lincoln Fong' 'Isla Guzman' 'Hailey Foster'\n",
      " 'Hudson Hill' 'Wyatt Li' 'Maverick Henry' 'Xavier Jackson'\n",
      " 'Christian Medina' 'Autumn Leung' 'Robert Vazquez' 'Aria Roberts'\n",
      " 'Axel Johnson' 'Madeline Garcia' 'Christopher Chung' 'Eliana Turner'\n",
      " 'Daniel Shah' 'Penelope Gonzalez' 'Mila Allen' 'Emilia Chu' 'Emily Clark'\n",
      " 'Roman King' 'Emery Do' 'Autumn Thao' 'Naomi Coleman' 'Cora Zheng'\n",
      " 'Ayla Daniels' 'Allison Daniels' 'Mateo Harris' 'Samantha Rogers'\n",
      " 'Julian Lee' 'Nicholas Avila' 'Willow Woods' 'Alexander Gonzales'\n",
      " 'Aiden Gonzales' 'Joshua Chin' 'Paisley Hall' 'Allison Leung'\n",
      " 'Hannah Mejia' 'Abigail Garza' 'Raelynn Lu' 'Charles Luu'\n",
      " 'Lydia Espinoza' 'Natalia Vu' 'Julia Mai' 'Camila Evans' 'Vivian Hunter'\n",
      " 'Lucy Avila' 'Eliana Li' 'Logan Mitchell' 'Dominic Dinh' 'Andrew Holmes'\n",
      " 'Julia Sandoval' 'Kennedy Vargas' 'Thomas Williams' 'Raelynn Hong'\n",
      " 'Lyla Yoon' 'Hannah White' 'Theodore Xi' 'Ezra Liang' 'Grayson Yee'\n",
      " 'Eli Richardson' 'Audrey Lee' 'Jameson Allen' 'Eliza Chen' 'Lyla Chen'\n",
      " 'Emily Doan' 'Jack Mai' 'Grayson Turner' 'Ivy Tang' 'Robert Zhang'\n",
      " 'Eva Alvarado' 'Abigail Vang' 'Theodore Marquez' 'Hunter Nunez'\n",
      " 'Charles Henderson' 'Camila Cortez' 'Aaron Garza' 'Jose Singh'\n",
      " 'Gabriel Joseph' 'Natalia Santos' 'Dylan Wilson' 'Robert Alvarez'\n",
      " 'Samantha Chavez' 'Ezekiel Delgado' 'Anthony Carter' 'Ethan Tang'\n",
      " 'Sebastian Rogers' 'Miles Thao' 'William Cao' 'Leo Hsu' 'Avery Grant'\n",
      " 'Penelope Fong' 'Vivian Thao' 'Eva Estrada' 'Emma Luna' 'Charlotte Wu'\n",
      " 'Vivian Chu' 'Jayden Williams' 'Amelia Bell' 'Addison Mehta' 'Everly Lin'\n",
      " 'Lyla Stewart' 'Brooklyn Ruiz' 'Skylar Evans' 'Lincoln Huynh'\n",
      " 'Hazel Griffin' 'Charles Gonzalez' 'Leah Patterson' 'Avery Sun'\n",
      " 'Isaac Yoon' 'Isabella Bui' 'Gabriel Zhou' 'Jack Vu' 'Valentina Moua'\n",
      " 'Quinn Trinh' 'Miles Dang' 'Leah Bryant' 'Henry Jung' 'Benjamin Mai'\n",
      " 'Ariana Kim' 'Alice Tran' 'Hailey Song' 'Lydia Morales' 'Luke Sanchez'\n",
      " 'Grace Sun' 'Ezra Banks' 'Jayden Kang' 'Skylar Shah' 'Luca Nelson'\n",
      " 'Riley Ramirez' 'Jaxon Fong' 'Alexander James' 'Connor Luu'\n",
      " 'Christopher Lam' 'Sophie Owens' 'Hadley Dang' 'Savannah Singh'\n",
      " 'Nevaeh Hsu' 'Jordan Zhu' 'Jackson Navarro' 'Sadie Patterson'\n",
      " 'Christopher Butler' 'Penelope Rodriguez' 'Emily Lau' 'Chloe Allen'\n",
      " 'Caleb Nelson' 'Oliver Moua' 'Wesley Doan' 'Nova Hsu' 'Levi Moreno'\n",
      " 'Gianna Ha' 'Lillian Gonzales' 'Ezra Singh' 'Audrey Patel'\n",
      " 'Eleanor Williams' 'Melody Grant' 'Paisley Sanders' 'Santiago f Gray'\n",
      " 'Josephine Richardson' 'Jaxson Santiago' 'Lincoln Ramos' 'Dylan Campbell'\n",
      " 'Emery Doan' 'Caroline Perez' 'Genesis Woods' 'Ruby Sun' 'Nevaeh James'\n",
      " 'Austin Rojas' 'Vivian Espinoza' 'Samuel Song' 'Aiden Silva'\n",
      " 'Eliana Allen' 'Grayson James' 'Hailey Yee' 'John Trinh'\n",
      " 'Santiago f Moua' 'Layla Collins' 'Jaxon Powell' 'Naomi Washington'\n",
      " 'Bella Holmes' 'Hailey Sanchez' 'Sofia Yoon' 'Eli Rahman'\n",
      " 'Christopher Howard' 'Alice Mehta' 'Cooper Yoon' 'John Delgado'\n",
      " 'Jaxson Liang' 'Caroline Santos' 'Lily Henderson' 'Hannah Martinez'\n",
      " 'William Phillips' 'Eliza Zheng' 'John Dang' 'Joshua Yang' 'Hazel Young'\n",
      " 'Thomas Jung' 'Xavier Perez' 'Elijah Coleman' 'Isaac Stewart'\n",
      " 'Claire Romero' 'Andrew Coleman' 'Riley Rojas' 'Landon Thao'\n",
      " 'Hadley Ford' 'Christian Fong' 'Hazel Alvarez' 'Isabella Bailey'\n",
      " 'Hadley Yee' 'Julia Doan' 'Dylan Ali' 'Eloise Trinh' 'Dylan Kumar'\n",
      " 'Silas Rivera' 'Jackson Jordan' 'Isaac Joseph' 'Madeline Watson'\n",
      " 'Silas Huang' 'Jeremiah Hernandez' 'Landon Kim' 'Peyton Vasquez'\n",
      " 'Charlotte Baker' 'Elena Mendoza' 'Nova Lin' 'Ivy Desai'\n",
      " 'Josephine Acosta' 'Nora Nunez' 'Caleb Xiong' 'Henry Green'\n",
      " 'Angel Delgado' 'Mia Herrera' 'Peyton Harris' 'David Herrera'\n",
      " 'Avery Dominguez' 'Grace Carter' 'Parker Allen' 'Sadie Lee'\n",
      " 'Cooper Valdez' 'Sebastian Fong' 'Roman Munoz' 'Charlotte Chang'\n",
      " 'Xavier Davis' 'Natalie Carter' 'Elena Richardson' 'Emilia Bailey'\n",
      " 'Ryan Lu' 'Asher Huynh' 'Paisley Bryant' 'Joshua Ramirez' 'Joshua Martin'\n",
      " 'Angel Do' 'Maverick Medina' 'Eliza Liang' 'Zoe Zhou' 'Nathan Lee'\n",
      " 'Elijah Ramos' 'Jaxson Coleman' 'Hailey Hong' 'Gabriella Zhu'\n",
      " 'Aaron Maldonado' 'Samantha Vargas' 'Nora Le' 'Colton Garcia'\n",
      " 'Jeremiah Castillo' 'Penelope Silva' 'Jose Richardson' 'Eleanor Chau'\n",
      " 'John Cho' 'Julian Delgado' 'Isabella Scott' 'Parker Avila' 'Luke Vu'\n",
      " 'Jameson Nelson' 'Adrian Fernandez' 'Madison Hunter' 'Jordan Phillips'\n",
      " 'Maya Chan' 'Sofia Fernandez' 'Hannah Hoang' 'Violet Garcia'\n",
      " 'Austin Vang' 'Maria Sun' 'Madelyn Scott' 'Emery Zhang'\n",
      " 'Riley Washington' 'Raelynn Rios' 'Anthony Hong' 'Leo Herrera'\n",
      " 'Audrey Richardson' 'Scarlett Kumar' 'Wesley Young' 'Lillian Khan'\n",
      " 'Oliver Yang' 'Lily Nguyen' 'Sofia Cheng']\n",
      "Number of unique names: \n",
      "905\n"
     ]
    }
   ],
   "source": [
    "# Unique values in Full Name category\n",
    "print(\"Unique Names:\")\n",
    "print(df_cleaned['Full Name'].unique())\n",
    "print(\"Number of unique names: \")\n",
    "print(df_cleaned['Full Name'].nunique())"
   ]
  },
  {
   "cell_type": "code",
   "execution_count": 27,
   "metadata": {},
   "outputs": [
    {
     "name": "stdout",
     "output_type": "stream",
     "text": [
      "Unique Job Title:\n",
      "['Sr. Manger' 'Technical Architect' 'Director' 'Computer Systems Manager'\n",
      " 'Sr. Analyst' 'Account Representative' 'Manager' 'Analyst'\n",
      " 'Controls Engineer' 'Vice President' 'Quality Engineer'\n",
      " 'Engineering Manager' 'IT Coordinator' 'Analyst II'\n",
      " 'Enterprise Architect' 'Sr. Business Partner' 'HRIS Analyst'\n",
      " 'Field Engineer' 'Automation Engineer' 'Operations Engineer'\n",
      " 'Business Partner' 'Cloud Infrastructure Architect' 'Test Engineer'\n",
      " 'Network Architect' 'Network Engineer' 'Development Engineer'\n",
      " 'Sr. Account Representative' 'System Administrator\\xa0' 'Systems Analyst'\n",
      " 'IT Systems Architect' 'Service Desk Analyst' 'Network Administrator'\n",
      " 'Solutions Architect']\n",
      "Number of unique Job Title: \n",
      "33\n"
     ]
    }
   ],
   "source": [
    "# Unique values in Job Title category\n",
    "print(\"Unique Job Title:\")\n",
    "print(df_cleaned['Job Title'].unique())\n",
    "print(\"Number of unique Job Title: \")\n",
    "print(df_cleaned['Job Title'].nunique())"
   ]
  },
  {
   "cell_type": "code",
   "execution_count": 28,
   "metadata": {},
   "outputs": [
    {
     "name": "stdout",
     "output_type": "stream",
     "text": [
      "Unique Department:\n",
      "['IT' 'Finance' 'Sales' 'Accounting' 'Human Resources' 'Engineering'\n",
      " 'Marketing']\n",
      "Number of unique Department: \n",
      "7\n"
     ]
    }
   ],
   "source": [
    "# Unique values in Department category\n",
    "print(\"Unique Department:\")\n",
    "print(df_cleaned['Department'].unique())\n",
    "print(\"Number of unique Department: \")\n",
    "print(df_cleaned['Department'].nunique())"
   ]
  },
  {
   "cell_type": "code",
   "execution_count": 29,
   "metadata": {},
   "outputs": [
    {
     "name": "stdout",
     "output_type": "stream",
     "text": [
      "Unique Business Unit:\n",
      "['Research & Development' 'Manufacturing' 'Speciality Products'\n",
      " 'Corporate']\n",
      "Number of unique Business Unit: \n",
      "4\n"
     ]
    }
   ],
   "source": [
    "# Unique values in Business Unit category\n",
    "print(\"Unique Business Unit:\")\n",
    "print(df_cleaned['Business Unit'].unique())\n",
    "print(\"Number of unique Business Unit: \")\n",
    "print(df_cleaned['Business Unit'].nunique())"
   ]
  },
  {
   "cell_type": "code",
   "execution_count": 30,
   "metadata": {},
   "outputs": [
    {
     "name": "stdout",
     "output_type": "stream",
     "text": [
      "Unique Ethnicity:\n",
      "['Black' 'Asian' 'Caucasian' 'Latino']\n",
      "Number of unique Ethnicity: \n",
      "4\n"
     ]
    }
   ],
   "source": [
    "# Unique values in Ethnicity category\n",
    "print(\"Unique Ethnicity:\")\n",
    "print(df_cleaned['Ethnicity'].unique())\n",
    "print(\"Number of unique Ethnicity: \")\n",
    "print(df_cleaned['Ethnicity'].nunique())"
   ]
  },
  {
   "cell_type": "code",
   "execution_count": 31,
   "metadata": {},
   "outputs": [
    {
     "name": "stdout",
     "output_type": "stream",
     "text": [
      "Unique Age:\n",
      "[55 59 50 26 57 27 25 29 34 36 51 31 41 65 64 45 56 37 44 43 63 28 61 30\n",
      " 32 35 53 52 40 33 46 38 58 60 42 48 54 49 39 62 47]\n",
      "Number of unique Age: \n",
      "41\n"
     ]
    }
   ],
   "source": [
    "# Unique values in Age category\n",
    "print(\"Unique Age:\")\n",
    "print(df_cleaned['Age'].unique())\n",
    "print(\"Number of unique Age: \")\n",
    "print(df_cleaned['Age'].nunique())"
   ]
  },
  {
   "cell_type": "code",
   "execution_count": 32,
   "metadata": {},
   "outputs": [
    {
     "name": "stdout",
     "output_type": "stream",
     "text": [
      "Unique Country:\n",
      "['United States' 'China' 'Brazil']\n",
      "Number of unique Country: \n",
      "3\n"
     ]
    }
   ],
   "source": [
    "# Unique values in Country category\n",
    "print(\"Unique Country:\")\n",
    "print(df_cleaned['Country'].unique())\n",
    "print(\"Number of unique Country: \")\n",
    "print(df_cleaned['Country'].nunique())"
   ]
  },
  {
   "cell_type": "code",
   "execution_count": 33,
   "metadata": {},
   "outputs": [
    {
     "name": "stdout",
     "output_type": "stream",
     "text": [
      "Unique City:\n",
      "['Seattle' 'Chongqing' 'Chicago' 'Phoenix' 'Miami' 'Austin' 'Shanghai'\n",
      " 'Columbus' 'Manaus' 'Rio de Janerio' 'Beijing' 'Chengdu' 'Sao Paulo']\n",
      "Number of unique City: \n",
      "13\n"
     ]
    }
   ],
   "source": [
    "# Unique values in City category\n",
    "print(\"Unique City:\")\n",
    "print(df_cleaned['City'].unique())\n",
    "print(\"Number of unique City: \")\n",
    "print(df_cleaned['City'].nunique())"
   ]
  },
  {
   "cell_type": "code",
   "execution_count": 34,
   "metadata": {},
   "outputs": [
    {
     "name": "stdout",
     "output_type": "stream",
     "text": [
      "Top 10 Max Paid male emplyees:\n",
      "       EEID        Full Name       Job Title       Department  \\\n",
      "462  E03226    Angel Stewart  Vice President          Finance   \n",
      "395  E02599     Daniel Huang  Vice President  Human Resources   \n",
      "803  E03289  Christopher Lam  Vice President       Accounting   \n",
      "481  E00218      David Desai  Vice President            Sales   \n",
      "489  E00325     Jameson Chen  Vice President        Marketing   \n",
      "657  E02825         Wyatt Li  Vice President      Engineering   \n",
      "37   E01628    Jackson Perry  Vice President        Marketing   \n",
      "610  E04170     Grayson Chin  Vice President               IT   \n",
      "549  E01371       Dominic Le  Vice President        Marketing   \n",
      "900  E02522     Silas Rivera  Vice President            Sales   \n",
      "\n",
      "              Business Unit Gender  Ethnicity  Age  Hire Date  Annual Salary  \\\n",
      "462               Corporate   Male  Caucasian   28 2019-06-22         250767   \n",
      "395               Corporate   Male      Asian   31 2015-09-03         250953   \n",
      "803           Manufacturing   Male      Asian   64 2013-03-29         252325   \n",
      "481     Speciality Products   Male      Asian   47 2016-11-22         253249   \n",
      "489  Research & Development   Male      Asian   39 2019-12-05         254057   \n",
      "657           Manufacturing   Male      Asian   63 2013-06-03         254289   \n",
      "37   Research & Development   Male  Caucasian   27 2019-10-20         256420   \n",
      "610  Research & Development   Male      Asian   26 2020-05-09         256561   \n",
      "549               Corporate   Male      Asian   41 2014-10-04         257194   \n",
      "900               Corporate   Male     Latino   48 2000-02-28         258081   \n",
      "\n",
      "     Bonus %        Country       City Exit Date  \n",
      "462     0.38  United States    Seattle       NaT  \n",
      "395     0.34  United States   Columbus       NaT  \n",
      "803     0.40  United States   Columbus       NaT  \n",
      "481     0.31  United States     Austin       NaT  \n",
      "489     0.39          China   Shanghai       NaT  \n",
      "657     0.39  United States    Chicago       NaT  \n",
      "37      0.30  United States    Phoenix       NaT  \n",
      "610     0.39  United States     Austin       NaT  \n",
      "549     0.35          China  Chongqing       NaT  \n",
      "900     0.30  United States    Chicago       NaT  \n"
     ]
    }
   ],
   "source": [
    "# Top 10 Max Paid male emplyees \n",
    "condition=df_sorted_Annual_Salary['Gender']=='Male'\n",
    "print('Top 10 Max Paid male emplyees:')\n",
    "print(df_sorted_Annual_Salary[condition].tail(10))\n"
   ]
  },
  {
   "cell_type": "code",
   "execution_count": 35,
   "metadata": {},
   "outputs": [
    {
     "name": "stdout",
     "output_type": "stream",
     "text": [
      "Top 10 Max Paid Female emplyees:\n",
      "       EEID       Full Name       Job Title       Department  \\\n",
      "936  E02202   Emilia Bailey  Vice President       Accounting   \n",
      "96   E04568        Rylee Yu  Vice President          Finance   \n",
      "15   E00549     Isabella Xi  Vice President        Marketing   \n",
      "177  E01546      Maria Hong  Vice President          Finance   \n",
      "741  E02391  Natalia Santos  Vice President  Human Resources   \n",
      "672  E02563     Emily Clark  Vice President       Accounting   \n",
      "260  E04103   Isabella Soto  Vice President          Finance   \n",
      "220  E00917     Skylar Bell  Vice President      Engineering   \n",
      "232  E04742    Kinsley Vega  Vice President       Accounting   \n",
      "989  E04354    Raelynn Rios  Vice President            Sales   \n",
      "\n",
      "              Business Unit  Gender  Ethnicity  Age  Hire Date  Annual Salary  \\\n",
      "936     Speciality Products  Female  Caucasian   41 2012-08-09         245360   \n",
      "96      Speciality Products  Female      Asian   54 2011-07-10         247022   \n",
      "15   Research & Development  Female      Asian   41 2013-03-13         249270   \n",
      "177     Speciality Products  Female      Asian   43 2005-07-31         249686   \n",
      "741     Speciality Products  Female     Latino   45 2019-02-25         249801   \n",
      "672               Corporate  Female  Caucasian   36 2020-01-13         253294   \n",
      "260               Corporate  Female     Latino   27 2021-12-15         255369   \n",
      "220           Manufacturing  Female  Caucasian   30 2018-03-06         255431   \n",
      "232               Corporate  Female     Latino   33 2020-12-16         258426   \n",
      "989           Manufacturing  Female     Latino   43 2016-08-21         258498   \n",
      "\n",
      "     Bonus %        Country            City Exit Date  \n",
      "936     0.37  United States          Austin       NaT  \n",
      "96      0.30          China         Beijing       NaT  \n",
      "15      0.30  United States         Seattle       NaT  \n",
      "177     0.31          China       Chongqing       NaT  \n",
      "741     0.39         Brazil       Sao Paulo       NaT  \n",
      "672     0.40  United States           Miami       NaT  \n",
      "260     0.33         Brazil       Sao Paulo       NaT  \n",
      "220     0.36  United States        Columbus       NaT  \n",
      "232     0.40         Brazil  Rio de Janerio       NaT  \n",
      "989     0.35  United States        Columbus       NaT  \n"
     ]
    }
   ],
   "source": [
    "# Top 10 Max Paid Female emplyees \n",
    "condition=df_sorted_Annual_Salary['Gender']=='Female'\n",
    "print('Top 10 Max Paid Female emplyees:')\n",
    "print(df_sorted_Annual_Salary[condition].tail(10))"
   ]
  },
  {
   "cell_type": "code",
   "execution_count": 36,
   "metadata": {},
   "outputs": [
    {
     "name": "stdout",
     "output_type": "stream",
     "text": [
      "                Annual Salary                              \n",
      "                        count           mean     max    min\n",
      "Department                                                 \n",
      "Accounting                 84  125444.095238  258426  45049\n",
      "Engineering               152  109517.901316  255431  60017\n",
      "Finance                   108  124564.231481  255369  41336\n",
      "Human Resources           111  118138.756757  250953  43001\n",
      "IT                        215   97239.055814  256561  40063\n",
      "Marketing                 112  128123.169643  257194  40752\n",
      "Sales                     129  110440.503876  258498  41429\n"
     ]
    }
   ],
   "source": [
    "# Group by Department and Annual Salary\n",
    "print(df_cleaned[['Annual Salary','Department']].groupby(['Department']).agg(['count','mean','max','min']))\n"
   ]
  },
  {
   "cell_type": "code",
   "execution_count": 37,
   "metadata": {},
   "outputs": [
    {
     "name": "stdout",
     "output_type": "stream",
     "text": [
      "                                         Annual Salary                         \\\n",
      "                                                 count           mean     max   \n",
      "Job Title              Department Gender                                        \n",
      "Account Representative Sales      Female            15   63744.066667   73004   \n",
      "                                  Male               6   58625.500000   70122   \n",
      "Analyst                Accounting Female             8   52031.125000   55767   \n",
      "                                  Male               4   56000.000000   58703   \n",
      "                       Finance    Female             8   49360.125000   55859   \n",
      "...                                                ...            ...     ...   \n",
      "Vice President         IT         Male              11  229947.000000  256561   \n",
      "                       Marketing  Female             7  219262.571429  249270   \n",
      "                                  Male              11  225708.818182  257194   \n",
      "                       Sales      Female             5  220079.400000  258498   \n",
      "                                  Male               7  225945.857143  258081   \n",
      "\n",
      "                                                  \n",
      "                                             min  \n",
      "Job Title              Department Gender          \n",
      "Account Representative Sales      Female   55457  \n",
      "                                  Male     50994  \n",
      "Analyst                Accounting Female   45049  \n",
      "                                  Male     52069  \n",
      "                       Finance    Female   43363  \n",
      "...                                          ...  \n",
      "Vice President         IT         Male    186725  \n",
      "                       Marketing  Female  190401  \n",
      "                                  Male    183190  \n",
      "                       Sales      Female  181452  \n",
      "                                  Male    195200  \n",
      "\n",
      "[127 rows x 4 columns]\n"
     ]
    }
   ],
   "source": [
    "# Group by Department, Job Title,Gender,Annual Salary\n",
    "multi_group=df_cleaned[['Job Title','Department','Gender','Annual Salary']].groupby(['Job Title','Department','Gender']).agg(['count','mean','max','min'])\n",
    "print(multi_group)"
   ]
  },
  {
   "cell_type": "code",
   "execution_count": 38,
   "metadata": {},
   "outputs": [
    {
     "name": "stdout",
     "output_type": "stream",
     "text": [
      "Country          Brazil  China  United States  Total\n",
      "Department                                          \n",
      "Accounting           10     18             56     84\n",
      "Engineering          29     28             95    152\n",
      "Finance              18     25             65    108\n",
      "Human Resources      17     22             72    111\n",
      "IT                   25     45            145    215\n",
      "Marketing            13     33             66    112\n",
      "Sales                20     30             79    129\n",
      "Total               132    201            578    911\n"
     ]
    }
   ],
   "source": [
    "# Checking correlations with cross tabuler form\n",
    "print(pd.crosstab(df_cleaned.Department, df_cleaned.Country, margins=True,margins_name=\"Total\"))\n"
   ]
  },
  {
   "cell_type": "code",
   "execution_count": 39,
   "metadata": {},
   "outputs": [
    {
     "name": "stderr",
     "output_type": "stream",
     "text": [
      "C:\\Users\\ankit\\AppData\\Local\\Temp\\ipykernel_1828\\3033881746.py:7: UserWarning: No artists with labels found to put in legend.  Note that artists whose label start with an underscore are ignored when legend() is called with no argument.\n",
      "  plt.legend()\n"
     ]
    },
    {
     "data": {
      "image/png": "[encoded data removed]",
      "text/plain": [
       "<Figure size 640x480 with 1 Axes>"
      ]
     },
     "metadata": {},
     "output_type": "display_data"
    }
   ],
   "source": [
    "#Display Age and AnnualSalary correlation\n",
    "import matplotlib.pyplot as plt\n",
    "plt.bar(df_cleaned['Age'],df_cleaned['Annual Salary'])\n",
    "plt.xlabel('Age')\n",
    "plt.ylabel('Annual Salary')\n",
    "plt.title('Age vs Annual Salary')\n",
    "plt.legend()\n",
    "plt.show()"
   ]
  },
  {
   "cell_type": "code",
   "execution_count": 40,
   "metadata": {},
   "outputs": [
    {
     "name": "stderr",
     "output_type": "stream",
     "text": [
      "C:\\Users\\ankit\\AppData\\Local\\Temp\\ipykernel_1828\\4029292705.py:7: UserWarning: No artists with labels found to put in legend.  Note that artists whose label start with an underscore are ignored when legend() is called with no argument.\n",
      "  plt.legend()\n"
     ]
    },
    {
     "data": {
      "image/png": "[encoded data removed]",
      "text/plain": [
       "<Figure size 640x480 with 1 Axes>"
      ]
     },
     "metadata": {},
     "output_type": "display_data"
    }
   ],
   "source": [
    "#Display Age and AnnualSalary correlation\n",
    "import matplotlib.pyplot as plt\n",
    "plt.bar(df_cleaned['Job Title'],df_cleaned['Annual Salary'])\n",
    "plt.xlabel('Job Title')\n",
    "plt.ylabel('Annual Salary')\n",
    "plt.title('Job Title vs Annual Salary')\n",
    "plt.legend()\n",
    "plt.show()"
   ]
  },
  {
   "cell_type": "code",
   "execution_count": 41,
   "metadata": {},
   "outputs": [
    {
     "name": "stdout",
     "output_type": "stream",
     "text": [
      "                               Annual Salary\n",
      "Department      Country                     \n",
      "Accounting      Brazil               1017896\n",
      "                China                1948506\n",
      "                United States        7570902\n",
      "Engineering     Brazil               3549692\n",
      "                China                3022757\n",
      "                United States       10074272\n",
      "Finance         Brazil               2113624\n",
      "                China                3329429\n",
      "                United States        8009884\n",
      "Human Resources Brazil               1975004\n",
      "                China                2835941\n",
      "                United States        8302457\n",
      "IT              Brazil               2434788\n",
      "                China                4634178\n",
      "                United States       13837431\n",
      "Marketing       Brazil               1659712\n",
      "                China                4299564\n",
      "                United States        8390519\n",
      "Sales           Brazil               2205476\n",
      "                China                3079140\n",
      "                United States        8962209\n"
     ]
    },
    {
     "name": "stderr",
     "output_type": "stream",
     "text": [
      "C:\\Users\\ankit\\AppData\\Local\\Temp\\ipykernel_1828\\3361782786.py:3: FutureWarning: The provided callable <function sum at 0x000001B8493709A0> is currently using DataFrameGroupBy.sum. In a future version of pandas, the provided callable will be used directly. To keep current behavior pass the string \"sum\" instead.\n",
      "  print(df_cleaned.pivot_table(index=['Department','Country'],values=['Annual Salary'],aggfunc=np.sum))\n"
     ]
    }
   ],
   "source": [
    "#use pivot table\n",
    "import numpy as np\n",
    "print(df_cleaned.pivot_table(index=['Department','Country'],values=['Annual Salary'],aggfunc=np.sum))"
   ]
  }
 ],
 "metadata": {
  "kernelspec": {
   "display_name": "Python 3",
   "language": "python",
   "name": "python3"
  },
  "language_info": {
   "codemirror_mode": {
    "name": "ipython",
    "version": 3
   },
   "file_extension": ".py",
   "mimetype": "text/x-python",
   "name": "python",
   "nbconvert_exporter": "python",
   "pygments_lexer": "ipython3",
   "version": "3.11.0"
  }
 },
 "nbformat": 4,
 "nbformat_minor": 2
}
